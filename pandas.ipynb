{
 "cells": [
  {
   "cell_type": "code",
   "execution_count": 1,
   "id": "9b93b259-9811-4414-af1a-69b3c4800939",
   "metadata": {},
   "outputs": [],
   "source": [
    "import pandas as pd"
   ]
  },
  {
   "cell_type": "code",
   "execution_count": 2,
   "id": "45a1d4e9-768f-44b0-9e29-a80ea9b75812",
   "metadata": {},
   "outputs": [
    {
     "data": {
      "text/plain": [
       "0    2\n",
       "1    5\n",
       "2    9\n",
       "3    3\n",
       "4    6\n",
       "5    1\n",
       "6    7\n",
       "dtype: int64"
      ]
     },
     "execution_count": 2,
     "metadata": {},
     "output_type": "execute_result"
    }
   ],
   "source": [
    "sr=pd.Series([2,5,9,3,6,1,7])\n",
    "sr"
   ]
  },
  {
   "cell_type": "code",
   "execution_count": 3,
   "id": "00f1933f-43ba-43d7-91ab-7d35434f1fb4",
   "metadata": {},
   "outputs": [
    {
     "data": {
      "text/plain": [
       "jan    31\n",
       "feb    28\n",
       "mar    31\n",
       "apr    30\n",
       "may    31\n",
       "jun    30\n",
       "jul    31\n",
       "aug    31\n",
       "sep    30\n",
       "oct    31\n",
       "nov    30\n",
       "dec    31\n",
       "dtype: int64"
      ]
     },
     "execution_count": 3,
     "metadata": {},
     "output_type": "execute_result"
    }
   ],
   "source": [
    "months=pd.Series([31,28,31,30,31,30,31,31,30,31,30,31],\n",
    "                 index=[\"jan\",\"feb\",\"mar\",\"apr\",\"may\",\"jun\",\"jul\",\"aug\",\"sep\",\"oct\",\"nov\",\"dec\"])\n",
    "months"
   ]
  },
  {
   "cell_type": "code",
   "execution_count": 4,
   "id": "9d344b40-26a0-4aac-a62a-27e4ee97f378",
   "metadata": {},
   "outputs": [
    {
     "data": {
      "text/plain": [
       "Index(['jan', 'feb', 'mar', 'apr', 'may', 'jun', 'jul', 'aug', 'sep', 'oct',\n",
       "       'nov', 'dec'],\n",
       "      dtype='object')"
      ]
     },
     "execution_count": 4,
     "metadata": {},
     "output_type": "execute_result"
    }
   ],
   "source": [
    "months.index"
   ]
  },
  {
   "cell_type": "code",
   "execution_count": 5,
   "id": "f6703a18-34d9-41e0-b1de-9a8c03b067a4",
   "metadata": {},
   "outputs": [
    {
     "data": {
      "text/plain": [
       "array([31, 28, 31, 30, 31, 30, 31, 31, 30, 31, 30, 31], dtype=int64)"
      ]
     },
     "execution_count": 5,
     "metadata": {},
     "output_type": "execute_result"
    }
   ],
   "source": [
    "months.values"
   ]
  },
  {
   "cell_type": "code",
   "execution_count": 6,
   "id": "71e8fe85-80af-490c-a5bf-0e8dea37f8a3",
   "metadata": {},
   "outputs": [
    {
     "data": {
      "text/plain": [
       "['jan',\n",
       " 'feb',\n",
       " 'mar',\n",
       " 'apr',\n",
       " 'may',\n",
       " 'jun',\n",
       " 'jul',\n",
       " 'aug',\n",
       " 'sep',\n",
       " 'oct',\n",
       " 'nov',\n",
       " 'dec']"
      ]
     },
     "execution_count": 6,
     "metadata": {},
     "output_type": "execute_result"
    }
   ],
   "source": [
    "months.index.tolist()"
   ]
  },
  {
   "cell_type": "code",
   "execution_count": 7,
   "id": "6badb0d9-2954-4d4f-a97a-fd45f6f790ac",
   "metadata": {},
   "outputs": [
    {
     "data": {
      "text/plain": [
       "[31, 28, 31, 30, 31, 30, 31, 31, 30, 31, 30, 31]"
      ]
     },
     "execution_count": 7,
     "metadata": {},
     "output_type": "execute_result"
    }
   ],
   "source": [
    "months.values.tolist()"
   ]
  },
  {
   "cell_type": "code",
   "execution_count": 8,
   "id": "5be820b1-9ca4-4c43-8ada-8d93f15b4505",
   "metadata": {},
   "outputs": [],
   "source": [
    "import numpy as np"
   ]
  },
  {
   "cell_type": "code",
   "execution_count": 9,
   "id": "baee9a3e-22bc-4242-9a2d-60400c00b2cd",
   "metadata": {},
   "outputs": [
    {
     "data": {
      "text/plain": [
       "ram       43\n",
       "sham      58\n",
       "sunder    43\n",
       "gita      89\n",
       "Name: student_marks, dtype: int32"
      ]
     },
     "execution_count": 9,
     "metadata": {},
     "output_type": "execute_result"
    }
   ],
   "source": [
    "marks=pd.Series(np.random.randint(36,99,4),\n",
    "                index=[\"ram\",\"sham\",\"sunder\",\"gita\"],\n",
    "                name=\"student_marks\")\n",
    "marks"
   ]
  },
  {
   "cell_type": "code",
   "execution_count": 10,
   "id": "291cb147-3f92-4fd7-9b8c-15e71e9782bc",
   "metadata": {},
   "outputs": [
    {
     "data": {
      "text/plain": [
       "58.25"
      ]
     },
     "execution_count": 10,
     "metadata": {},
     "output_type": "execute_result"
    }
   ],
   "source": [
    "marks.mean()"
   ]
  },
  {
   "cell_type": "code",
   "execution_count": 11,
   "id": "8776b804-8383-49ae-9208-d6f033bea2af",
   "metadata": {},
   "outputs": [
    {
     "data": {
      "text/plain": [
       "21.68524844220144"
      ]
     },
     "execution_count": 11,
     "metadata": {},
     "output_type": "execute_result"
    }
   ],
   "source": [
    "marks.std()"
   ]
  },
  {
   "cell_type": "code",
   "execution_count": 12,
   "id": "5826aa1e-b849-4b7d-9f6f-0478bfd19443",
   "metadata": {},
   "outputs": [
    {
     "data": {
      "text/html": [
       "<div>\n",
       "<style scoped>\n",
       "    .dataframe tbody tr th:only-of-type {\n",
       "        vertical-align: middle;\n",
       "    }\n",
       "\n",
       "    .dataframe tbody tr th {\n",
       "        vertical-align: top;\n",
       "    }\n",
       "\n",
       "    .dataframe thead th {\n",
       "        text-align: right;\n",
       "    }\n",
       "</style>\n",
       "<table border=\"1\" class=\"dataframe\">\n",
       "  <thead>\n",
       "    <tr style=\"text-align: right;\">\n",
       "      <th></th>\n",
       "      <th>marks</th>\n",
       "    </tr>\n",
       "  </thead>\n",
       "  <tbody>\n",
       "    <tr>\n",
       "      <th>0</th>\n",
       "      <td>93</td>\n",
       "    </tr>\n",
       "    <tr>\n",
       "      <th>1</th>\n",
       "      <td>43</td>\n",
       "    </tr>\n",
       "    <tr>\n",
       "      <th>2</th>\n",
       "      <td>38</td>\n",
       "    </tr>\n",
       "    <tr>\n",
       "      <th>3</th>\n",
       "      <td>36</td>\n",
       "    </tr>\n",
       "  </tbody>\n",
       "</table>\n",
       "</div>"
      ],
      "text/plain": [
       "   marks\n",
       "0     93\n",
       "1     43\n",
       "2     38\n",
       "3     36"
      ]
     },
     "execution_count": 12,
     "metadata": {},
     "output_type": "execute_result"
    }
   ],
   "source": [
    "#dataframe\n",
    "df1=pd.DataFrame(np.random.randint(36,99,4),\n",
    "                 columns=[\"marks\"])\n",
    "df1"
   ]
  },
  {
   "cell_type": "code",
   "execution_count": 13,
   "id": "c024cf43-152a-431a-b229-75596f9775ad",
   "metadata": {},
   "outputs": [
    {
     "data": {
      "text/plain": [
       "(dict_keys(['sachin', 'virat', 'jadeja', 'bumrah', 'kuildeep', 'hardik']),\n",
       " dict_values(['Batsman', 'Batsman', 'boller', 'pacer', 'spinner', 'allrounder']))"
      ]
     },
     "execution_count": 13,
     "metadata": {},
     "output_type": "execute_result"
    }
   ],
   "source": [
    "dict={\"sachin\":\"Batsman\",\n",
    "      \"virat\":\"Batsman\",\n",
    "      \"jadeja\":\"boller\",\n",
    "      \"bumrah\":\"pacer\",\n",
    "      \"kuildeep\":\"spinner\",\n",
    "      \"hardik\":\"allrounder\"\n",
    "     }\n",
    "players=dict.keys()\n",
    "role=dict.values()\n",
    "players,role\n",
    "      "
   ]
  },
  {
   "cell_type": "code",
   "execution_count": 14,
   "id": "432076ef-06ae-4116-8f29-9a743d2e94ee",
   "metadata": {},
   "outputs": [],
   "source": [
    "team_players={\n",
    "    \"players\":['sachin','virat','jadeja','bumrah','kuldeep','hardik'],\n",
    "    \"role\":['batsman','batsman','allrounder','pacer','spinner','boller']\n",
    "}\n"
   ]
  },
  {
   "cell_type": "code",
   "execution_count": 15,
   "id": "9bfec60d-c3ee-4e1e-a576-b2e7168370c0",
   "metadata": {},
   "outputs": [
    {
     "data": {
      "text/html": [
       "<div>\n",
       "<style scoped>\n",
       "    .dataframe tbody tr th:only-of-type {\n",
       "        vertical-align: middle;\n",
       "    }\n",
       "\n",
       "    .dataframe tbody tr th {\n",
       "        vertical-align: top;\n",
       "    }\n",
       "\n",
       "    .dataframe thead th {\n",
       "        text-align: right;\n",
       "    }\n",
       "</style>\n",
       "<table border=\"1\" class=\"dataframe\">\n",
       "  <thead>\n",
       "    <tr style=\"text-align: right;\">\n",
       "      <th></th>\n",
       "      <th>players</th>\n",
       "      <th>role</th>\n",
       "    </tr>\n",
       "  </thead>\n",
       "  <tbody>\n",
       "    <tr>\n",
       "      <th>0</th>\n",
       "      <td>sachin</td>\n",
       "      <td>batsman</td>\n",
       "    </tr>\n",
       "    <tr>\n",
       "      <th>1</th>\n",
       "      <td>virat</td>\n",
       "      <td>batsman</td>\n",
       "    </tr>\n",
       "    <tr>\n",
       "      <th>2</th>\n",
       "      <td>jadeja</td>\n",
       "      <td>allrounder</td>\n",
       "    </tr>\n",
       "    <tr>\n",
       "      <th>3</th>\n",
       "      <td>bumrah</td>\n",
       "      <td>pacer</td>\n",
       "    </tr>\n",
       "    <tr>\n",
       "      <th>4</th>\n",
       "      <td>kuldeep</td>\n",
       "      <td>spinner</td>\n",
       "    </tr>\n",
       "    <tr>\n",
       "      <th>5</th>\n",
       "      <td>hardik</td>\n",
       "      <td>boller</td>\n",
       "    </tr>\n",
       "  </tbody>\n",
       "</table>\n",
       "</div>"
      ],
      "text/plain": [
       "   players        role\n",
       "0   sachin     batsman\n",
       "1    virat     batsman\n",
       "2   jadeja  allrounder\n",
       "3   bumrah       pacer\n",
       "4  kuldeep     spinner\n",
       "5   hardik      boller"
      ]
     },
     "execution_count": 15,
     "metadata": {},
     "output_type": "execute_result"
    }
   ],
   "source": [
    "team=pd.DataFrame(team_players)\n",
    "team"
   ]
  },
  {
   "cell_type": "code",
   "execution_count": 16,
   "id": "3432de11-f0d1-4a83-8c76-7fa4bf3ac731",
   "metadata": {},
   "outputs": [
    {
     "data": {
      "text/plain": [
       "(6, 2)"
      ]
     },
     "execution_count": 16,
     "metadata": {},
     "output_type": "execute_result"
    }
   ],
   "source": [
    "team.shape"
   ]
  },
  {
   "cell_type": "code",
   "execution_count": 17,
   "id": "9f6e8aca-3c1f-4571-b8aa-6b1eb1574e0c",
   "metadata": {},
   "outputs": [
    {
     "data": {
      "text/html": [
       "<div>\n",
       "<style scoped>\n",
       "    .dataframe tbody tr th:only-of-type {\n",
       "        vertical-align: middle;\n",
       "    }\n",
       "\n",
       "    .dataframe tbody tr th {\n",
       "        vertical-align: top;\n",
       "    }\n",
       "\n",
       "    .dataframe thead th {\n",
       "        text-align: right;\n",
       "    }\n",
       "</style>\n",
       "<table border=\"1\" class=\"dataframe\">\n",
       "  <thead>\n",
       "    <tr style=\"text-align: right;\">\n",
       "      <th></th>\n",
       "      <th>name</th>\n",
       "      <th>month</th>\n",
       "      <th>sales</th>\n",
       "    </tr>\n",
       "  </thead>\n",
       "  <tbody>\n",
       "    <tr>\n",
       "      <th>0</th>\n",
       "      <td>ramesh</td>\n",
       "      <td>jan</td>\n",
       "      <td>2300</td>\n",
       "    </tr>\n",
       "    <tr>\n",
       "      <th>1</th>\n",
       "      <td>suresh</td>\n",
       "      <td>jan</td>\n",
       "      <td>4320</td>\n",
       "    </tr>\n",
       "    <tr>\n",
       "      <th>2</th>\n",
       "      <td>ram</td>\n",
       "      <td>jan</td>\n",
       "      <td>3400</td>\n",
       "    </tr>\n",
       "    <tr>\n",
       "      <th>3</th>\n",
       "      <td>sham</td>\n",
       "      <td>feb</td>\n",
       "      <td>6500</td>\n",
       "    </tr>\n",
       "    <tr>\n",
       "      <th>4</th>\n",
       "      <td>gita</td>\n",
       "      <td>feb</td>\n",
       "      <td>3400</td>\n",
       "    </tr>\n",
       "  </tbody>\n",
       "</table>\n",
       "</div>"
      ],
      "text/plain": [
       "     name month  sales\n",
       "0  ramesh   jan   2300\n",
       "1  suresh   jan   4320\n",
       "2     ram   jan   3400\n",
       "3    sham   feb   6500\n",
       "4    gita   feb   3400"
      ]
     },
     "execution_count": 17,
     "metadata": {},
     "output_type": "execute_result"
    }
   ],
   "source": [
    "df2=pd.read_csv(\"sales.csv\")\n",
    "df2"
   ]
  },
  {
   "cell_type": "code",
   "execution_count": 18,
   "id": "b9b37529-4a3f-4879-950a-a7642fe84f52",
   "metadata": {},
   "outputs": [
    {
     "data": {
      "text/html": [
       "<div>\n",
       "<style scoped>\n",
       "    .dataframe tbody tr th:only-of-type {\n",
       "        vertical-align: middle;\n",
       "    }\n",
       "\n",
       "    .dataframe tbody tr th {\n",
       "        vertical-align: top;\n",
       "    }\n",
       "\n",
       "    .dataframe thead th {\n",
       "        text-align: right;\n",
       "    }\n",
       "</style>\n",
       "<table border=\"1\" class=\"dataframe\">\n",
       "  <thead>\n",
       "    <tr style=\"text-align: right;\">\n",
       "      <th></th>\n",
       "      <th>name</th>\n",
       "      <th>math</th>\n",
       "      <th>phy</th>\n",
       "      <th>eng</th>\n",
       "      <th>sport</th>\n",
       "    </tr>\n",
       "  </thead>\n",
       "  <tbody>\n",
       "    <tr>\n",
       "      <th>0</th>\n",
       "      <td>ram</td>\n",
       "      <td>78</td>\n",
       "      <td>56</td>\n",
       "      <td>89</td>\n",
       "      <td>45</td>\n",
       "    </tr>\n",
       "    <tr>\n",
       "      <th>1</th>\n",
       "      <td>sham</td>\n",
       "      <td>95</td>\n",
       "      <td>84</td>\n",
       "      <td>68</td>\n",
       "      <td>45</td>\n",
       "    </tr>\n",
       "    <tr>\n",
       "      <th>2</th>\n",
       "      <td>rpcky</td>\n",
       "      <td>75</td>\n",
       "      <td>34</td>\n",
       "      <td>85</td>\n",
       "      <td>52</td>\n",
       "    </tr>\n",
       "    <tr>\n",
       "      <th>3</th>\n",
       "      <td>ronit</td>\n",
       "      <td>85</td>\n",
       "      <td>46</td>\n",
       "      <td>46</td>\n",
       "      <td>71</td>\n",
       "    </tr>\n",
       "    <tr>\n",
       "      <th>4</th>\n",
       "      <td>gita</td>\n",
       "      <td>65</td>\n",
       "      <td>89</td>\n",
       "      <td>89</td>\n",
       "      <td>93</td>\n",
       "    </tr>\n",
       "    <tr>\n",
       "      <th>5</th>\n",
       "      <td>sita</td>\n",
       "      <td>39</td>\n",
       "      <td>56</td>\n",
       "      <td>76</td>\n",
       "      <td>48</td>\n",
       "    </tr>\n",
       "  </tbody>\n",
       "</table>\n",
       "</div>"
      ],
      "text/plain": [
       "    name  math  phy  eng  sport\n",
       "0    ram    78   56   89     45\n",
       "1   sham    95   84   68     45\n",
       "2  rpcky    75   34   85     52\n",
       "3  ronit    85   46   46     71\n",
       "4   gita    65   89   89     93\n",
       "5   sita    39   56   76     48"
      ]
     },
     "execution_count": 18,
     "metadata": {},
     "output_type": "execute_result"
    }
   ],
   "source": [
    "df3=pd.read_excel(\"mark.xlsx\")\n",
    "df3"
   ]
  },
  {
   "cell_type": "code",
   "execution_count": 19,
   "id": "03908551-2ed1-46c3-a9e3-2dbeda691143",
   "metadata": {},
   "outputs": [
    {
     "data": {
      "text/html": [
       "<div>\n",
       "<style scoped>\n",
       "    .dataframe tbody tr th:only-of-type {\n",
       "        vertical-align: middle;\n",
       "    }\n",
       "\n",
       "    .dataframe tbody tr th {\n",
       "        vertical-align: top;\n",
       "    }\n",
       "\n",
       "    .dataframe thead th {\n",
       "        text-align: right;\n",
       "    }\n",
       "</style>\n",
       "<table border=\"1\" class=\"dataframe\">\n",
       "  <thead>\n",
       "    <tr style=\"text-align: right;\">\n",
       "      <th></th>\n",
       "      <th>name</th>\n",
       "      <th>month</th>\n",
       "      <th>sales</th>\n",
       "    </tr>\n",
       "  </thead>\n",
       "  <tbody>\n",
       "    <tr>\n",
       "      <th>3</th>\n",
       "      <td>sham</td>\n",
       "      <td>feb</td>\n",
       "      <td>6500</td>\n",
       "    </tr>\n",
       "    <tr>\n",
       "      <th>4</th>\n",
       "      <td>gita</td>\n",
       "      <td>feb</td>\n",
       "      <td>3400</td>\n",
       "    </tr>\n",
       "  </tbody>\n",
       "</table>\n",
       "</div>"
      ],
      "text/plain": [
       "   name month  sales\n",
       "3  sham   feb   6500\n",
       "4  gita   feb   3400"
      ]
     },
     "execution_count": 19,
     "metadata": {},
     "output_type": "execute_result"
    }
   ],
   "source": [
    "df2.tail(2)"
   ]
  },
  {
   "cell_type": "code",
   "execution_count": 20,
   "id": "ffffd840-2e0d-4cd8-a798-1b443e88913e",
   "metadata": {},
   "outputs": [
    {
     "data": {
      "text/html": [
       "<div>\n",
       "<style scoped>\n",
       "    .dataframe tbody tr th:only-of-type {\n",
       "        vertical-align: middle;\n",
       "    }\n",
       "\n",
       "    .dataframe tbody tr th {\n",
       "        vertical-align: top;\n",
       "    }\n",
       "\n",
       "    .dataframe thead th {\n",
       "        text-align: right;\n",
       "    }\n",
       "</style>\n",
       "<table border=\"1\" class=\"dataframe\">\n",
       "  <thead>\n",
       "    <tr style=\"text-align: right;\">\n",
       "      <th></th>\n",
       "      <th>name</th>\n",
       "      <th>month</th>\n",
       "      <th>sales</th>\n",
       "    </tr>\n",
       "  </thead>\n",
       "  <tbody>\n",
       "    <tr>\n",
       "      <th>0</th>\n",
       "      <td>ramesh</td>\n",
       "      <td>jan</td>\n",
       "      <td>2300</td>\n",
       "    </tr>\n",
       "    <tr>\n",
       "      <th>1</th>\n",
       "      <td>suresh</td>\n",
       "      <td>jan</td>\n",
       "      <td>4320</td>\n",
       "    </tr>\n",
       "    <tr>\n",
       "      <th>2</th>\n",
       "      <td>ram</td>\n",
       "      <td>jan</td>\n",
       "      <td>3400</td>\n",
       "    </tr>\n",
       "  </tbody>\n",
       "</table>\n",
       "</div>"
      ],
      "text/plain": [
       "     name month  sales\n",
       "0  ramesh   jan   2300\n",
       "1  suresh   jan   4320\n",
       "2     ram   jan   3400"
      ]
     },
     "execution_count": 20,
     "metadata": {},
     "output_type": "execute_result"
    }
   ],
   "source": [
    "df2.head(3)"
   ]
  },
  {
   "cell_type": "code",
   "execution_count": 21,
   "id": "2597ccfd-d4ab-4d0f-8573-aa2119e8aaff",
   "metadata": {},
   "outputs": [
    {
     "data": {
      "text/plain": [
       "(5, 3)"
      ]
     },
     "execution_count": 21,
     "metadata": {},
     "output_type": "execute_result"
    }
   ],
   "source": [
    "df2.shape"
   ]
  },
  {
   "cell_type": "code",
   "execution_count": 22,
   "id": "8a838e6d-3462-4851-b77d-b52c5eab6cd0",
   "metadata": {},
   "outputs": [
    {
     "data": {
      "text/plain": [
       "0    jan\n",
       "1    jan\n",
       "2    jan\n",
       "3    feb\n",
       "4    feb\n",
       "Name: month, dtype: object"
      ]
     },
     "execution_count": 22,
     "metadata": {},
     "output_type": "execute_result"
    }
   ],
   "source": [
    "df2[\"month\"]"
   ]
  },
  {
   "cell_type": "code",
   "execution_count": 23,
   "id": "cafa5038-5085-4de7-b2b3-62848e79070c",
   "metadata": {},
   "outputs": [
    {
     "data": {
      "text/html": [
       "<div>\n",
       "<style scoped>\n",
       "    .dataframe tbody tr th:only-of-type {\n",
       "        vertical-align: middle;\n",
       "    }\n",
       "\n",
       "    .dataframe tbody tr th {\n",
       "        vertical-align: top;\n",
       "    }\n",
       "\n",
       "    .dataframe thead th {\n",
       "        text-align: right;\n",
       "    }\n",
       "</style>\n",
       "<table border=\"1\" class=\"dataframe\">\n",
       "  <thead>\n",
       "    <tr style=\"text-align: right;\">\n",
       "      <th></th>\n",
       "      <th>name</th>\n",
       "      <th>month</th>\n",
       "      <th>sales</th>\n",
       "    </tr>\n",
       "  </thead>\n",
       "  <tbody>\n",
       "    <tr>\n",
       "      <th>3</th>\n",
       "      <td>sham</td>\n",
       "      <td>feb</td>\n",
       "      <td>6500</td>\n",
       "    </tr>\n",
       "    <tr>\n",
       "      <th>4</th>\n",
       "      <td>gita</td>\n",
       "      <td>feb</td>\n",
       "      <td>3400</td>\n",
       "    </tr>\n",
       "  </tbody>\n",
       "</table>\n",
       "</div>"
      ],
      "text/plain": [
       "   name month  sales\n",
       "3  sham   feb   6500\n",
       "4  gita   feb   3400"
      ]
     },
     "execution_count": 23,
     "metadata": {},
     "output_type": "execute_result"
    }
   ],
   "source": [
    "df2.iloc[3:5]"
   ]
  },
  {
   "cell_type": "code",
   "execution_count": 24,
   "id": "c279a979-af65-4043-bf9b-5c95657717ee",
   "metadata": {},
   "outputs": [
    {
     "data": {
      "text/html": [
       "<div>\n",
       "<style scoped>\n",
       "    .dataframe tbody tr th:only-of-type {\n",
       "        vertical-align: middle;\n",
       "    }\n",
       "\n",
       "    .dataframe tbody tr th {\n",
       "        vertical-align: top;\n",
       "    }\n",
       "\n",
       "    .dataframe thead th {\n",
       "        text-align: right;\n",
       "    }\n",
       "</style>\n",
       "<table border=\"1\" class=\"dataframe\">\n",
       "  <thead>\n",
       "    <tr style=\"text-align: right;\">\n",
       "      <th></th>\n",
       "      <th>name</th>\n",
       "      <th>month</th>\n",
       "    </tr>\n",
       "  </thead>\n",
       "  <tbody>\n",
       "    <tr>\n",
       "      <th>3</th>\n",
       "      <td>sham</td>\n",
       "      <td>feb</td>\n",
       "    </tr>\n",
       "    <tr>\n",
       "      <th>4</th>\n",
       "      <td>gita</td>\n",
       "      <td>feb</td>\n",
       "    </tr>\n",
       "  </tbody>\n",
       "</table>\n",
       "</div>"
      ],
      "text/plain": [
       "   name month\n",
       "3  sham   feb\n",
       "4  gita   feb"
      ]
     },
     "execution_count": 24,
     "metadata": {},
     "output_type": "execute_result"
    }
   ],
   "source": [
    "df2.iloc[3:5,:2]"
   ]
  },
  {
   "cell_type": "code",
   "execution_count": 25,
   "id": "0ee56f9d-a70b-4a99-b7f5-4f09a3e73896",
   "metadata": {},
   "outputs": [
    {
     "data": {
      "text/html": [
       "<div>\n",
       "<style scoped>\n",
       "    .dataframe tbody tr th:only-of-type {\n",
       "        vertical-align: middle;\n",
       "    }\n",
       "\n",
       "    .dataframe tbody tr th {\n",
       "        vertical-align: top;\n",
       "    }\n",
       "\n",
       "    .dataframe thead th {\n",
       "        text-align: right;\n",
       "    }\n",
       "</style>\n",
       "<table border=\"1\" class=\"dataframe\">\n",
       "  <thead>\n",
       "    <tr style=\"text-align: right;\">\n",
       "      <th></th>\n",
       "      <th>name</th>\n",
       "      <th>month</th>\n",
       "      <th>sales</th>\n",
       "    </tr>\n",
       "  </thead>\n",
       "  <tbody>\n",
       "    <tr>\n",
       "      <th>3</th>\n",
       "      <td>sham</td>\n",
       "      <td>feb</td>\n",
       "      <td>6500</td>\n",
       "    </tr>\n",
       "    <tr>\n",
       "      <th>4</th>\n",
       "      <td>gita</td>\n",
       "      <td>feb</td>\n",
       "      <td>3400</td>\n",
       "    </tr>\n",
       "  </tbody>\n",
       "</table>\n",
       "</div>"
      ],
      "text/plain": [
       "   name month  sales\n",
       "3  sham   feb   6500\n",
       "4  gita   feb   3400"
      ]
     },
     "execution_count": 25,
     "metadata": {},
     "output_type": "execute_result"
    }
   ],
   "source": [
    "df2.loc[3:5,[\"name\",\"month\",\"sales\"]]"
   ]
  },
  {
   "cell_type": "code",
   "execution_count": 26,
   "id": "9bd839a9-ee87-4ce7-98ec-4a654387f712",
   "metadata": {},
   "outputs": [
    {
     "data": {
      "text/html": [
       "<div>\n",
       "<style scoped>\n",
       "    .dataframe tbody tr th:only-of-type {\n",
       "        vertical-align: middle;\n",
       "    }\n",
       "\n",
       "    .dataframe tbody tr th {\n",
       "        vertical-align: top;\n",
       "    }\n",
       "\n",
       "    .dataframe thead th {\n",
       "        text-align: right;\n",
       "    }\n",
       "</style>\n",
       "<table border=\"1\" class=\"dataframe\">\n",
       "  <thead>\n",
       "    <tr style=\"text-align: right;\">\n",
       "      <th></th>\n",
       "      <th>Laptop</th>\n",
       "      <th>Model</th>\n",
       "      <th>Year</th>\n",
       "      <th>RAM</th>\n",
       "      <th>Storage</th>\n",
       "      <th>Price</th>\n",
       "    </tr>\n",
       "  </thead>\n",
       "  <tbody>\n",
       "    <tr>\n",
       "      <th>0</th>\n",
       "      <td>HP</td>\n",
       "      <td>Elitebook</td>\n",
       "      <td>2018</td>\n",
       "      <td>4</td>\n",
       "      <td>0</td>\n",
       "      <td>61800</td>\n",
       "    </tr>\n",
       "    <tr>\n",
       "      <th>1</th>\n",
       "      <td>Lenovo</td>\n",
       "      <td>Ideapad</td>\n",
       "      <td>2014</td>\n",
       "      <td>8</td>\n",
       "      <td>0</td>\n",
       "      <td>53600</td>\n",
       "    </tr>\n",
       "    <tr>\n",
       "      <th>2</th>\n",
       "      <td>Acer</td>\n",
       "      <td>Notebook</td>\n",
       "      <td>2015</td>\n",
       "      <td>12</td>\n",
       "      <td>0</td>\n",
       "      <td>75200</td>\n",
       "    </tr>\n",
       "    <tr>\n",
       "      <th>3</th>\n",
       "      <td>Dell</td>\n",
       "      <td>Latitude</td>\n",
       "      <td>2020</td>\n",
       "      <td>16</td>\n",
       "      <td>0</td>\n",
       "      <td>67100</td>\n",
       "    </tr>\n",
       "    <tr>\n",
       "      <th>4</th>\n",
       "      <td>MSI</td>\n",
       "      <td>Primebook</td>\n",
       "      <td>2012</td>\n",
       "      <td>12</td>\n",
       "      <td>0</td>\n",
       "      <td>53300</td>\n",
       "    </tr>\n",
       "  </tbody>\n",
       "</table>\n",
       "</div>"
      ],
      "text/plain": [
       "   Laptop      Model  Year  RAM  Storage  Price\n",
       "0      HP  Elitebook  2018    4        0  61800\n",
       "1  Lenovo    Ideapad  2014    8        0  53600\n",
       "2    Acer   Notebook  2015   12        0  75200\n",
       "3    Dell   Latitude  2020   16        0  67100\n",
       "4     MSI  Primebook  2012   12        0  53300"
      ]
     },
     "execution_count": 26,
     "metadata": {},
     "output_type": "execute_result"
    }
   ],
   "source": [
    "laptop=pd.read_excel(\"laptop.xlsx\")\n",
    "laptop.head()"
   ]
  },
  {
   "cell_type": "code",
   "execution_count": 27,
   "id": "41d7a360-83c4-4cfd-9e9f-8cf810d98787",
   "metadata": {},
   "outputs": [
    {
     "data": {
      "text/plain": [
       "(18, 6)"
      ]
     },
     "execution_count": 27,
     "metadata": {},
     "output_type": "execute_result"
    }
   ],
   "source": [
    "laptop.shape"
   ]
  },
  {
   "cell_type": "code",
   "execution_count": 28,
   "id": "1b14235a-988e-4730-ab26-689126d35ebf",
   "metadata": {},
   "outputs": [
    {
     "data": {
      "text/plain": [
       "array([128, 128, 512, 256, 128, 128, 256, 128, 512, 256, 128, 256, 128,\n",
       "       512, 256, 256, 256, 256])"
      ]
     },
     "execution_count": 28,
     "metadata": {},
     "output_type": "execute_result"
    }
   ],
   "source": [
    "storage=np.random.choice([128,256,512],18)\n",
    "storage"
   ]
  },
  {
   "cell_type": "code",
   "execution_count": 29,
   "id": "e180f30b-9ea6-4a2f-98c4-60d94a99b1d4",
   "metadata": {},
   "outputs": [],
   "source": [
    "laptop[\"storage\"]=storage"
   ]
  },
  {
   "cell_type": "code",
   "execution_count": 30,
   "id": "eeb9ac83-5099-4c18-bf1f-8944e35c56ec",
   "metadata": {},
   "outputs": [
    {
     "data": {
      "text/html": [
       "<div>\n",
       "<style scoped>\n",
       "    .dataframe tbody tr th:only-of-type {\n",
       "        vertical-align: middle;\n",
       "    }\n",
       "\n",
       "    .dataframe tbody tr th {\n",
       "        vertical-align: top;\n",
       "    }\n",
       "\n",
       "    .dataframe thead th {\n",
       "        text-align: right;\n",
       "    }\n",
       "</style>\n",
       "<table border=\"1\" class=\"dataframe\">\n",
       "  <thead>\n",
       "    <tr style=\"text-align: right;\">\n",
       "      <th></th>\n",
       "      <th>Laptop</th>\n",
       "      <th>Model</th>\n",
       "      <th>Year</th>\n",
       "      <th>RAM</th>\n",
       "      <th>Storage</th>\n",
       "      <th>Price</th>\n",
       "      <th>storage</th>\n",
       "    </tr>\n",
       "  </thead>\n",
       "  <tbody>\n",
       "    <tr>\n",
       "      <th>0</th>\n",
       "      <td>HP</td>\n",
       "      <td>Elitebook</td>\n",
       "      <td>2018</td>\n",
       "      <td>4</td>\n",
       "      <td>0</td>\n",
       "      <td>61800</td>\n",
       "      <td>128</td>\n",
       "    </tr>\n",
       "    <tr>\n",
       "      <th>1</th>\n",
       "      <td>Lenovo</td>\n",
       "      <td>Ideapad</td>\n",
       "      <td>2014</td>\n",
       "      <td>8</td>\n",
       "      <td>0</td>\n",
       "      <td>53600</td>\n",
       "      <td>128</td>\n",
       "    </tr>\n",
       "    <tr>\n",
       "      <th>2</th>\n",
       "      <td>Acer</td>\n",
       "      <td>Notebook</td>\n",
       "      <td>2015</td>\n",
       "      <td>12</td>\n",
       "      <td>0</td>\n",
       "      <td>75200</td>\n",
       "      <td>512</td>\n",
       "    </tr>\n",
       "    <tr>\n",
       "      <th>3</th>\n",
       "      <td>Dell</td>\n",
       "      <td>Latitude</td>\n",
       "      <td>2020</td>\n",
       "      <td>16</td>\n",
       "      <td>0</td>\n",
       "      <td>67100</td>\n",
       "      <td>256</td>\n",
       "    </tr>\n",
       "    <tr>\n",
       "      <th>4</th>\n",
       "      <td>MSI</td>\n",
       "      <td>Primebook</td>\n",
       "      <td>2012</td>\n",
       "      <td>12</td>\n",
       "      <td>0</td>\n",
       "      <td>53300</td>\n",
       "      <td>128</td>\n",
       "    </tr>\n",
       "  </tbody>\n",
       "</table>\n",
       "</div>"
      ],
      "text/plain": [
       "   Laptop      Model  Year  RAM  Storage  Price  storage\n",
       "0      HP  Elitebook  2018    4        0  61800      128\n",
       "1  Lenovo    Ideapad  2014    8        0  53600      128\n",
       "2    Acer   Notebook  2015   12        0  75200      512\n",
       "3    Dell   Latitude  2020   16        0  67100      256\n",
       "4     MSI  Primebook  2012   12        0  53300      128"
      ]
     },
     "execution_count": 30,
     "metadata": {},
     "output_type": "execute_result"
    }
   ],
   "source": [
    "laptop.head()"
   ]
  },
  {
   "cell_type": "code",
   "execution_count": 31,
   "id": "f9f66e3b-825d-4d02-aace-e5f0e388cb09",
   "metadata": {},
   "outputs": [
    {
     "name": "stdout",
     "output_type": "stream",
     "text": [
      "<class 'pandas.core.frame.DataFrame'>\n",
      "RangeIndex: 18 entries, 0 to 17\n",
      "Data columns (total 7 columns):\n",
      " #   Column   Non-Null Count  Dtype \n",
      "---  ------   --------------  ----- \n",
      " 0   Laptop   18 non-null     object\n",
      " 1   Model    18 non-null     object\n",
      " 2   Year     18 non-null     int64 \n",
      " 3   RAM      18 non-null     int64 \n",
      " 4   Storage  18 non-null     int64 \n",
      " 5   Price    18 non-null     int64 \n",
      " 6   storage  18 non-null     int32 \n",
      "dtypes: int32(1), int64(4), object(2)\n",
      "memory usage: 1.0+ KB\n"
     ]
    }
   ],
   "source": [
    "laptop.info()"
   ]
  },
  {
   "cell_type": "code",
   "execution_count": 32,
   "id": "329c3ac6-5f0d-46b8-acd0-1a1cfa92582a",
   "metadata": {},
   "outputs": [
    {
     "data": {
      "text/html": [
       "<div>\n",
       "<style scoped>\n",
       "    .dataframe tbody tr th:only-of-type {\n",
       "        vertical-align: middle;\n",
       "    }\n",
       "\n",
       "    .dataframe tbody tr th {\n",
       "        vertical-align: top;\n",
       "    }\n",
       "\n",
       "    .dataframe thead th {\n",
       "        text-align: right;\n",
       "    }\n",
       "</style>\n",
       "<table border=\"1\" class=\"dataframe\">\n",
       "  <thead>\n",
       "    <tr style=\"text-align: right;\">\n",
       "      <th></th>\n",
       "      <th>Year</th>\n",
       "      <th>RAM</th>\n",
       "      <th>Storage</th>\n",
       "      <th>Price</th>\n",
       "      <th>storage</th>\n",
       "    </tr>\n",
       "  </thead>\n",
       "  <tbody>\n",
       "    <tr>\n",
       "      <th>count</th>\n",
       "      <td>18.000000</td>\n",
       "      <td>18.000000</td>\n",
       "      <td>18.0</td>\n",
       "      <td>18.000000</td>\n",
       "      <td>18.000000</td>\n",
       "    </tr>\n",
       "    <tr>\n",
       "      <th>mean</th>\n",
       "      <td>2017.222222</td>\n",
       "      <td>9.555556</td>\n",
       "      <td>0.0</td>\n",
       "      <td>69238.888889</td>\n",
       "      <td>248.888889</td>\n",
       "    </tr>\n",
       "    <tr>\n",
       "      <th>std</th>\n",
       "      <td>3.718880</td>\n",
       "      <td>4.090480</td>\n",
       "      <td>0.0</td>\n",
       "      <td>11181.872877</td>\n",
       "      <td>135.122119</td>\n",
       "    </tr>\n",
       "    <tr>\n",
       "      <th>min</th>\n",
       "      <td>2012.000000</td>\n",
       "      <td>4.000000</td>\n",
       "      <td>0.0</td>\n",
       "      <td>51300.000000</td>\n",
       "      <td>128.000000</td>\n",
       "    </tr>\n",
       "    <tr>\n",
       "      <th>25%</th>\n",
       "      <td>2014.000000</td>\n",
       "      <td>6.500000</td>\n",
       "      <td>0.0</td>\n",
       "      <td>61950.000000</td>\n",
       "      <td>128.000000</td>\n",
       "    </tr>\n",
       "    <tr>\n",
       "      <th>50%</th>\n",
       "      <td>2016.500000</td>\n",
       "      <td>8.000000</td>\n",
       "      <td>0.0</td>\n",
       "      <td>68650.000000</td>\n",
       "      <td>256.000000</td>\n",
       "    </tr>\n",
       "    <tr>\n",
       "      <th>75%</th>\n",
       "      <td>2020.000000</td>\n",
       "      <td>12.000000</td>\n",
       "      <td>0.0</td>\n",
       "      <td>76400.000000</td>\n",
       "      <td>256.000000</td>\n",
       "    </tr>\n",
       "    <tr>\n",
       "      <th>max</th>\n",
       "      <td>2023.000000</td>\n",
       "      <td>16.000000</td>\n",
       "      <td>0.0</td>\n",
       "      <td>88200.000000</td>\n",
       "      <td>512.000000</td>\n",
       "    </tr>\n",
       "  </tbody>\n",
       "</table>\n",
       "</div>"
      ],
      "text/plain": [
       "              Year        RAM  Storage         Price     storage\n",
       "count    18.000000  18.000000     18.0     18.000000   18.000000\n",
       "mean   2017.222222   9.555556      0.0  69238.888889  248.888889\n",
       "std       3.718880   4.090480      0.0  11181.872877  135.122119\n",
       "min    2012.000000   4.000000      0.0  51300.000000  128.000000\n",
       "25%    2014.000000   6.500000      0.0  61950.000000  128.000000\n",
       "50%    2016.500000   8.000000      0.0  68650.000000  256.000000\n",
       "75%    2020.000000  12.000000      0.0  76400.000000  256.000000\n",
       "max    2023.000000  16.000000      0.0  88200.000000  512.000000"
      ]
     },
     "execution_count": 32,
     "metadata": {},
     "output_type": "execute_result"
    }
   ],
   "source": [
    "laptop.describe()"
   ]
  },
  {
   "cell_type": "code",
   "execution_count": 33,
   "id": "2c9eb0f6-c96f-4058-90c1-98ab01d3a94a",
   "metadata": {},
   "outputs": [
    {
     "data": {
      "text/plain": [
       "0     False\n",
       "1     False\n",
       "2     False\n",
       "3     False\n",
       "4     False\n",
       "5     False\n",
       "6     False\n",
       "7     False\n",
       "8     False\n",
       "9     False\n",
       "10    False\n",
       "11    False\n",
       "12    False\n",
       "13    False\n",
       "14    False\n",
       "15    False\n",
       "16    False\n",
       "17    False\n",
       "dtype: bool"
      ]
     },
     "execution_count": 33,
     "metadata": {},
     "output_type": "execute_result"
    }
   ],
   "source": [
    "laptop.duplicated()"
   ]
  },
  {
   "cell_type": "code",
   "execution_count": 34,
   "id": "0c89b1a0-5b84-435e-91a6-a8ec52e90371",
   "metadata": {},
   "outputs": [
    {
     "data": {
      "text/plain": [
       "Laptop     0\n",
       "Model      0\n",
       "Year       0\n",
       "RAM        0\n",
       "Storage    0\n",
       "Price      0\n",
       "storage    0\n",
       "dtype: int64"
      ]
     },
     "execution_count": 34,
     "metadata": {},
     "output_type": "execute_result"
    }
   ],
   "source": [
    "laptop.isna().sum()"
   ]
  },
  {
   "cell_type": "code",
   "execution_count": 35,
   "id": "44d1b9ab-a00c-401e-b976-4409d70574e1",
   "metadata": {},
   "outputs": [],
   "source": [
    "laptop[\"RAM\"]=laptop[\"RAM\"].replace(12,np.nan)"
   ]
  },
  {
   "cell_type": "code",
   "execution_count": 36,
   "id": "1d45fb6b-ee18-44d3-9e70-4301b2bff2f3",
   "metadata": {},
   "outputs": [
    {
     "data": {
      "text/plain": [
       "0     False\n",
       "1     False\n",
       "2      True\n",
       "3     False\n",
       "4      True\n",
       "5     False\n",
       "6     False\n",
       "7     False\n",
       "8      True\n",
       "9     False\n",
       "10    False\n",
       "11    False\n",
       "12     True\n",
       "13    False\n",
       "14    False\n",
       "15    False\n",
       "16     True\n",
       "17    False\n",
       "Name: RAM, dtype: bool"
      ]
     },
     "execution_count": 36,
     "metadata": {},
     "output_type": "execute_result"
    }
   ],
   "source": [
    "laptop[\"RAM\"].isna()"
   ]
  },
  {
   "cell_type": "code",
   "execution_count": 37,
   "id": "5930e6f6-ffac-4b63-8d6d-eca6d08267f3",
   "metadata": {},
   "outputs": [
    {
     "data": {
      "text/plain": [
       "5"
      ]
     },
     "execution_count": 37,
     "metadata": {},
     "output_type": "execute_result"
    }
   ],
   "source": [
    "laptop[\"RAM\"].isna().sum()"
   ]
  },
  {
   "cell_type": "code",
   "execution_count": 38,
   "id": "87a93a8d-7784-4530-b94b-af03e9e55c5c",
   "metadata": {},
   "outputs": [
    {
     "data": {
      "text/plain": [
       "0      4.0\n",
       "1      8.0\n",
       "2      8.0\n",
       "3     16.0\n",
       "4      8.0\n",
       "5      8.0\n",
       "6      6.0\n",
       "7      4.0\n",
       "8      8.0\n",
       "9     16.0\n",
       "10     8.0\n",
       "11     6.0\n",
       "12     8.0\n",
       "13    16.0\n",
       "14     8.0\n",
       "15     4.0\n",
       "16     8.0\n",
       "17     8.0\n",
       "Name: RAM, dtype: float64"
      ]
     },
     "execution_count": 38,
     "metadata": {},
     "output_type": "execute_result"
    }
   ],
   "source": [
    "laptop[\"RAM\"].fillna(8)"
   ]
  },
  {
   "cell_type": "code",
   "execution_count": 39,
   "id": "5d28044d-eb57-4e88-9a69-0485e26b08ff",
   "metadata": {},
   "outputs": [],
   "source": [
    "laptop[\"RAM\"]=laptop[\"RAM\"].fillna(laptop[\"RAM\"].quantile(0.5))\n"
   ]
  },
  {
   "cell_type": "code",
   "execution_count": 40,
   "id": "8f3378a5-3198-4308-ae73-b202dc2e6366",
   "metadata": {},
   "outputs": [
    {
     "data": {
      "text/plain": [
       "0      4.0\n",
       "1      8.0\n",
       "2      8.0\n",
       "3     16.0\n",
       "4      8.0\n",
       "5      8.0\n",
       "6      6.0\n",
       "7      4.0\n",
       "8      8.0\n",
       "9     16.0\n",
       "10     8.0\n",
       "11     6.0\n",
       "12     8.0\n",
       "13    16.0\n",
       "14     8.0\n",
       "15     4.0\n",
       "16     8.0\n",
       "17     8.0\n",
       "Name: RAM, dtype: float64"
      ]
     },
     "execution_count": 40,
     "metadata": {},
     "output_type": "execute_result"
    }
   ],
   "source": [
    "laptop[\"RAM\"].fillna(laptop[\"RAM\"].quantile(0.5))\n",
    "\n"
   ]
  },
  {
   "cell_type": "code",
   "execution_count": 41,
   "id": "e5fae57e-1291-48b4-a913-b608bc55301c",
   "metadata": {},
   "outputs": [
    {
     "data": {
      "text/plain": [
       "0.10     4.0\n",
       "0.25     6.5\n",
       "0.35     8.0\n",
       "0.50     8.0\n",
       "0.60     8.0\n",
       "0.75     8.0\n",
       "0.80     8.0\n",
       "0.95    16.0\n",
       "0.99    16.0\n",
       "Name: RAM, dtype: float64"
      ]
     },
     "execution_count": 41,
     "metadata": {},
     "output_type": "execute_result"
    }
   ],
   "source": [
    "laptop[\"RAM\"].quantile([0.1,0.25,0.35,0.5,0.6,0.75,0.8,0.95,0.99])\n"
   ]
  },
  {
   "cell_type": "code",
   "execution_count": 42,
   "id": "edb9bf9e-db69-4b11-99c3-3673f816e42f",
   "metadata": {},
   "outputs": [
    {
     "data": {
      "text/html": [
       "<div>\n",
       "<style scoped>\n",
       "    .dataframe tbody tr th:only-of-type {\n",
       "        vertical-align: middle;\n",
       "    }\n",
       "\n",
       "    .dataframe tbody tr th {\n",
       "        vertical-align: top;\n",
       "    }\n",
       "\n",
       "    .dataframe thead th {\n",
       "        text-align: right;\n",
       "    }\n",
       "</style>\n",
       "<table border=\"1\" class=\"dataframe\">\n",
       "  <thead>\n",
       "    <tr style=\"text-align: right;\">\n",
       "      <th></th>\n",
       "      <th>Year</th>\n",
       "      <th>RAM</th>\n",
       "      <th>Storage</th>\n",
       "      <th>Price</th>\n",
       "      <th>storage</th>\n",
       "    </tr>\n",
       "    <tr>\n",
       "      <th>Laptop</th>\n",
       "      <th></th>\n",
       "      <th></th>\n",
       "      <th></th>\n",
       "      <th></th>\n",
       "      <th></th>\n",
       "    </tr>\n",
       "  </thead>\n",
       "  <tbody>\n",
       "    <tr>\n",
       "      <th>Acer</th>\n",
       "      <td>2014.000000</td>\n",
       "      <td>8.000000</td>\n",
       "      <td>0.0</td>\n",
       "      <td>78950.000000</td>\n",
       "      <td>320.000000</td>\n",
       "    </tr>\n",
       "    <tr>\n",
       "      <th>Apple</th>\n",
       "      <td>2019.000000</td>\n",
       "      <td>6.666667</td>\n",
       "      <td>0.0</td>\n",
       "      <td>58766.666667</td>\n",
       "      <td>256.000000</td>\n",
       "    </tr>\n",
       "    <tr>\n",
       "      <th>Asus</th>\n",
       "      <td>2016.250000</td>\n",
       "      <td>10.000000</td>\n",
       "      <td>0.0</td>\n",
       "      <td>67600.000000</td>\n",
       "      <td>256.000000</td>\n",
       "    </tr>\n",
       "    <tr>\n",
       "      <th>Dell</th>\n",
       "      <td>2021.000000</td>\n",
       "      <td>11.000000</td>\n",
       "      <td>0.0</td>\n",
       "      <td>76300.000000</td>\n",
       "      <td>256.000000</td>\n",
       "    </tr>\n",
       "    <tr>\n",
       "      <th>HP</th>\n",
       "      <td>2015.666667</td>\n",
       "      <td>4.666667</td>\n",
       "      <td>0.0</td>\n",
       "      <td>74966.666667</td>\n",
       "      <td>170.666667</td>\n",
       "    </tr>\n",
       "    <tr>\n",
       "      <th>Lenovo</th>\n",
       "      <td>2019.666667</td>\n",
       "      <td>10.666667</td>\n",
       "      <td>0.0</td>\n",
       "      <td>70300.000000</td>\n",
       "      <td>298.666667</td>\n",
       "    </tr>\n",
       "    <tr>\n",
       "      <th>MSI</th>\n",
       "      <td>2012.000000</td>\n",
       "      <td>8.000000</td>\n",
       "      <td>0.0</td>\n",
       "      <td>53300.000000</td>\n",
       "      <td>128.000000</td>\n",
       "    </tr>\n",
       "  </tbody>\n",
       "</table>\n",
       "</div>"
      ],
      "text/plain": [
       "               Year        RAM  Storage         Price     storage\n",
       "Laptop                                                           \n",
       "Acer    2014.000000   8.000000      0.0  78950.000000  320.000000\n",
       "Apple   2019.000000   6.666667      0.0  58766.666667  256.000000\n",
       "Asus    2016.250000  10.000000      0.0  67600.000000  256.000000\n",
       "Dell    2021.000000  11.000000      0.0  76300.000000  256.000000\n",
       "HP      2015.666667   4.666667      0.0  74966.666667  170.666667\n",
       "Lenovo  2019.666667  10.666667      0.0  70300.000000  298.666667\n",
       "MSI     2012.000000   8.000000      0.0  53300.000000  128.000000"
      ]
     },
     "execution_count": 42,
     "metadata": {},
     "output_type": "execute_result"
    }
   ],
   "source": [
    "laptop.groupby(\"Laptop\").mean(\"price\")"
   ]
  },
  {
   "cell_type": "code",
   "execution_count": 43,
   "id": "8924b79f-340c-4c20-85db-24ad2ea93210",
   "metadata": {},
   "outputs": [
    {
     "data": {
      "text/html": [
       "<div>\n",
       "<style scoped>\n",
       "    .dataframe tbody tr th:only-of-type {\n",
       "        vertical-align: middle;\n",
       "    }\n",
       "\n",
       "    .dataframe tbody tr th {\n",
       "        vertical-align: top;\n",
       "    }\n",
       "\n",
       "    .dataframe thead th {\n",
       "        text-align: right;\n",
       "    }\n",
       "</style>\n",
       "<table border=\"1\" class=\"dataframe\">\n",
       "  <thead>\n",
       "    <tr style=\"text-align: right;\">\n",
       "      <th></th>\n",
       "      <th>Model</th>\n",
       "      <th>Year</th>\n",
       "      <th>RAM</th>\n",
       "      <th>Storage</th>\n",
       "      <th>Price</th>\n",
       "      <th>storage</th>\n",
       "    </tr>\n",
       "    <tr>\n",
       "      <th>Laptop</th>\n",
       "      <th></th>\n",
       "      <th></th>\n",
       "      <th></th>\n",
       "      <th></th>\n",
       "      <th></th>\n",
       "      <th></th>\n",
       "    </tr>\n",
       "  </thead>\n",
       "  <tbody>\n",
       "    <tr>\n",
       "      <th>Acer</th>\n",
       "      <td>2</td>\n",
       "      <td>2</td>\n",
       "      <td>2</td>\n",
       "      <td>2</td>\n",
       "      <td>2</td>\n",
       "      <td>2</td>\n",
       "    </tr>\n",
       "    <tr>\n",
       "      <th>Apple</th>\n",
       "      <td>3</td>\n",
       "      <td>3</td>\n",
       "      <td>3</td>\n",
       "      <td>3</td>\n",
       "      <td>3</td>\n",
       "      <td>3</td>\n",
       "    </tr>\n",
       "    <tr>\n",
       "      <th>Asus</th>\n",
       "      <td>4</td>\n",
       "      <td>4</td>\n",
       "      <td>4</td>\n",
       "      <td>4</td>\n",
       "      <td>4</td>\n",
       "      <td>4</td>\n",
       "    </tr>\n",
       "    <tr>\n",
       "      <th>Dell</th>\n",
       "      <td>2</td>\n",
       "      <td>2</td>\n",
       "      <td>2</td>\n",
       "      <td>2</td>\n",
       "      <td>2</td>\n",
       "      <td>2</td>\n",
       "    </tr>\n",
       "    <tr>\n",
       "      <th>HP</th>\n",
       "      <td>3</td>\n",
       "      <td>3</td>\n",
       "      <td>3</td>\n",
       "      <td>3</td>\n",
       "      <td>3</td>\n",
       "      <td>3</td>\n",
       "    </tr>\n",
       "    <tr>\n",
       "      <th>Lenovo</th>\n",
       "      <td>3</td>\n",
       "      <td>3</td>\n",
       "      <td>3</td>\n",
       "      <td>3</td>\n",
       "      <td>3</td>\n",
       "      <td>3</td>\n",
       "    </tr>\n",
       "    <tr>\n",
       "      <th>MSI</th>\n",
       "      <td>1</td>\n",
       "      <td>1</td>\n",
       "      <td>1</td>\n",
       "      <td>1</td>\n",
       "      <td>1</td>\n",
       "      <td>1</td>\n",
       "    </tr>\n",
       "  </tbody>\n",
       "</table>\n",
       "</div>"
      ],
      "text/plain": [
       "        Model  Year  RAM  Storage  Price  storage\n",
       "Laptop                                           \n",
       "Acer        2     2    2        2      2        2\n",
       "Apple       3     3    3        3      3        3\n",
       "Asus        4     4    4        4      4        4\n",
       "Dell        2     2    2        2      2        2\n",
       "HP          3     3    3        3      3        3\n",
       "Lenovo      3     3    3        3      3        3\n",
       "MSI         1     1    1        1      1        1"
      ]
     },
     "execution_count": 43,
     "metadata": {},
     "output_type": "execute_result"
    }
   ],
   "source": [
    "laptop.groupby(\"Laptop\").count()"
   ]
  },
  {
   "cell_type": "code",
   "execution_count": 44,
   "id": "cc2858fe-130a-4dfd-adc1-705d835130d9",
   "metadata": {},
   "outputs": [
    {
     "data": {
      "text/plain": [
       "Laptop\n",
       "Asus      4\n",
       "HP        3\n",
       "Lenovo    3\n",
       "Apple     3\n",
       "Acer      2\n",
       "Dell      2\n",
       "MSI       1\n",
       "Name: count, dtype: int64"
      ]
     },
     "execution_count": 44,
     "metadata": {},
     "output_type": "execute_result"
    }
   ],
   "source": [
    "laptop[\"Laptop\"].value_counts()"
   ]
  },
  {
   "cell_type": "code",
   "execution_count": 45,
   "id": "9b2b3594-c12e-450a-9ea6-07b0ec590e10",
   "metadata": {},
   "outputs": [
    {
     "data": {
      "text/plain": [
       "RAM\n",
       "8.0     10\n",
       "4.0      3\n",
       "16.0     3\n",
       "6.0      2\n",
       "Name: count, dtype: int64"
      ]
     },
     "execution_count": 45,
     "metadata": {},
     "output_type": "execute_result"
    }
   ],
   "source": [
    "laptop[\"RAM\"].value_counts()"
   ]
  },
  {
   "cell_type": "code",
   "execution_count": 46,
   "id": "4038457c-25a8-4542-a181-72b304d8f419",
   "metadata": {},
   "outputs": [
    {
     "data": {
      "text/plain": [
       "array(['Elitebook', 'Ideapad', 'Notebook', 'Latitude', 'Primebook',\n",
       "       'Expertbook', 'Pavellion', 'Omen', 'Thinkpad', 'Legion',\n",
       "       'Notebook Pro', 'XPS', 'Vivobook', 'ROG', 'TUF', 'Macbook Air',\n",
       "       'Macbook Pro', 'Mini'], dtype=object)"
      ]
     },
     "execution_count": 46,
     "metadata": {},
     "output_type": "execute_result"
    }
   ],
   "source": [
    "laptop[\"Model\"].unique()"
   ]
  },
  {
   "cell_type": "code",
   "execution_count": 47,
   "id": "c87730de-d56c-4a9d-93ac-302b79e2b5ef",
   "metadata": {},
   "outputs": [
    {
     "data": {
      "text/plain": [
       "['Elitebook',\n",
       " 'Ideapad',\n",
       " 'Notebook',\n",
       " 'Latitude',\n",
       " 'Primebook',\n",
       " 'Expertbook',\n",
       " 'Pavellion',\n",
       " 'Omen',\n",
       " 'Thinkpad',\n",
       " 'Legion',\n",
       " 'Notebook Pro',\n",
       " 'XPS',\n",
       " 'Vivobook',\n",
       " 'ROG',\n",
       " 'TUF',\n",
       " 'Macbook Air',\n",
       " 'Macbook Pro',\n",
       " 'Mini']"
      ]
     },
     "execution_count": 47,
     "metadata": {},
     "output_type": "execute_result"
    }
   ],
   "source": [
    "laptop[\"Model\"].unique().tolist()"
   ]
  },
  {
   "cell_type": "code",
   "execution_count": 48,
   "id": "753f4d94-fab0-439a-af26-e07559f31be1",
   "metadata": {},
   "outputs": [],
   "source": [
    "sales=pd.read_excel(\"Sales.xlsx\")\n"
   ]
  },
  {
   "cell_type": "code",
   "execution_count": 49,
   "id": "83e95fa0-e2df-4085-a5ef-551cc6b8e9bf",
   "metadata": {},
   "outputs": [
    {
     "data": {
      "text/html": [
       "<div>\n",
       "<style scoped>\n",
       "    .dataframe tbody tr th:only-of-type {\n",
       "        vertical-align: middle;\n",
       "    }\n",
       "\n",
       "    .dataframe tbody tr th {\n",
       "        vertical-align: top;\n",
       "    }\n",
       "\n",
       "    .dataframe thead th {\n",
       "        text-align: right;\n",
       "    }\n",
       "</style>\n",
       "<table border=\"1\" class=\"dataframe\">\n",
       "  <thead>\n",
       "    <tr style=\"text-align: right;\">\n",
       "      <th></th>\n",
       "      <th>Name</th>\n",
       "      <th>Month</th>\n",
       "      <th>Sales</th>\n",
       "    </tr>\n",
       "  </thead>\n",
       "  <tbody>\n",
       "    <tr>\n",
       "      <th>0</th>\n",
       "      <td>Ram</td>\n",
       "      <td>January</td>\n",
       "      <td>3500</td>\n",
       "    </tr>\n",
       "    <tr>\n",
       "      <th>1</th>\n",
       "      <td>Sham</td>\n",
       "      <td>January</td>\n",
       "      <td>3500</td>\n",
       "    </tr>\n",
       "    <tr>\n",
       "      <th>2</th>\n",
       "      <td>Sita</td>\n",
       "      <td>January</td>\n",
       "      <td>2100</td>\n",
       "    </tr>\n",
       "    <tr>\n",
       "      <th>3</th>\n",
       "      <td>Gita</td>\n",
       "      <td>January</td>\n",
       "      <td>4900</td>\n",
       "    </tr>\n",
       "    <tr>\n",
       "      <th>4</th>\n",
       "      <td>Ram</td>\n",
       "      <td>February</td>\n",
       "      <td>3000</td>\n",
       "    </tr>\n",
       "  </tbody>\n",
       "</table>\n",
       "</div>"
      ],
      "text/plain": [
       "   Name     Month  Sales\n",
       "0   Ram   January   3500\n",
       "1  Sham   January   3500\n",
       "2  Sita   January   2100\n",
       "3  Gita   January   4900\n",
       "4   Ram  February   3000"
      ]
     },
     "execution_count": 49,
     "metadata": {},
     "output_type": "execute_result"
    }
   ],
   "source": [
    "sales.head()"
   ]
  },
  {
   "cell_type": "code",
   "execution_count": 50,
   "id": "9e66a7ca-0fa3-495e-8dd4-80e5c5f7141c",
   "metadata": {},
   "outputs": [
    {
     "data": {
      "text/html": [
       "<div>\n",
       "<style scoped>\n",
       "    .dataframe tbody tr th:only-of-type {\n",
       "        vertical-align: middle;\n",
       "    }\n",
       "\n",
       "    .dataframe tbody tr th {\n",
       "        vertical-align: top;\n",
       "    }\n",
       "\n",
       "    .dataframe thead th {\n",
       "        text-align: right;\n",
       "    }\n",
       "</style>\n",
       "<table border=\"1\" class=\"dataframe\">\n",
       "  <thead>\n",
       "    <tr style=\"text-align: right;\">\n",
       "      <th></th>\n",
       "      <th>Sales</th>\n",
       "    </tr>\n",
       "    <tr>\n",
       "      <th>Month</th>\n",
       "      <th></th>\n",
       "    </tr>\n",
       "  </thead>\n",
       "  <tbody>\n",
       "    <tr>\n",
       "      <th>April</th>\n",
       "      <td>11200</td>\n",
       "    </tr>\n",
       "    <tr>\n",
       "      <th>February</th>\n",
       "      <td>8900</td>\n",
       "    </tr>\n",
       "    <tr>\n",
       "      <th>January</th>\n",
       "      <td>14000</td>\n",
       "    </tr>\n",
       "    <tr>\n",
       "      <th>March</th>\n",
       "      <td>7600</td>\n",
       "    </tr>\n",
       "  </tbody>\n",
       "</table>\n",
       "</div>"
      ],
      "text/plain": [
       "          Sales\n",
       "Month          \n",
       "April     11200\n",
       "February   8900\n",
       "January   14000\n",
       "March      7600"
      ]
     },
     "execution_count": 50,
     "metadata": {},
     "output_type": "execute_result"
    }
   ],
   "source": [
    "sales.groupby(\"Month\").sum(\"Sales\")"
   ]
  },
  {
   "cell_type": "code",
   "execution_count": 51,
   "id": "43a0f4a5-0c87-4892-8ee5-b11616ed84d2",
   "metadata": {},
   "outputs": [
    {
     "data": {
      "text/html": [
       "<div>\n",
       "<style scoped>\n",
       "    .dataframe tbody tr th:only-of-type {\n",
       "        vertical-align: middle;\n",
       "    }\n",
       "\n",
       "    .dataframe tbody tr th {\n",
       "        vertical-align: top;\n",
       "    }\n",
       "\n",
       "    .dataframe thead th {\n",
       "        text-align: right;\n",
       "    }\n",
       "</style>\n",
       "<table border=\"1\" class=\"dataframe\">\n",
       "  <thead>\n",
       "    <tr style=\"text-align: right;\">\n",
       "      <th></th>\n",
       "      <th>Sales</th>\n",
       "    </tr>\n",
       "    <tr>\n",
       "      <th>Name</th>\n",
       "      <th></th>\n",
       "    </tr>\n",
       "  </thead>\n",
       "  <tbody>\n",
       "    <tr>\n",
       "      <th>Gita</th>\n",
       "      <td>12300</td>\n",
       "    </tr>\n",
       "    <tr>\n",
       "      <th>Ram</th>\n",
       "      <td>10600</td>\n",
       "    </tr>\n",
       "    <tr>\n",
       "      <th>Sham</th>\n",
       "      <td>11600</td>\n",
       "    </tr>\n",
       "    <tr>\n",
       "      <th>Sita</th>\n",
       "      <td>7200</td>\n",
       "    </tr>\n",
       "  </tbody>\n",
       "</table>\n",
       "</div>"
      ],
      "text/plain": [
       "      Sales\n",
       "Name       \n",
       "Gita  12300\n",
       "Ram   10600\n",
       "Sham  11600\n",
       "Sita   7200"
      ]
     },
     "execution_count": 51,
     "metadata": {},
     "output_type": "execute_result"
    }
   ],
   "source": [
    "sales.groupby(\"Name\").sum(\"Sales\")"
   ]
  },
  {
   "cell_type": "code",
   "execution_count": 52,
   "id": "d20216f4-8e25-44db-b097-6537b265072e",
   "metadata": {},
   "outputs": [
    {
     "data": {
      "text/html": [
       "<div>\n",
       "<style scoped>\n",
       "    .dataframe tbody tr th:only-of-type {\n",
       "        vertical-align: middle;\n",
       "    }\n",
       "\n",
       "    .dataframe tbody tr th {\n",
       "        vertical-align: top;\n",
       "    }\n",
       "\n",
       "    .dataframe thead th {\n",
       "        text-align: right;\n",
       "    }\n",
       "</style>\n",
       "<table border=\"1\" class=\"dataframe\">\n",
       "  <thead>\n",
       "    <tr style=\"text-align: right;\">\n",
       "      <th>Month</th>\n",
       "      <th>April</th>\n",
       "      <th>February</th>\n",
       "      <th>January</th>\n",
       "      <th>March</th>\n",
       "    </tr>\n",
       "    <tr>\n",
       "      <th>Name</th>\n",
       "      <th></th>\n",
       "      <th></th>\n",
       "      <th></th>\n",
       "      <th></th>\n",
       "    </tr>\n",
       "  </thead>\n",
       "  <tbody>\n",
       "    <tr>\n",
       "      <th>Gita</th>\n",
       "      <td>3000.0</td>\n",
       "      <td>2100.0</td>\n",
       "      <td>4900.0</td>\n",
       "      <td>2300.0</td>\n",
       "    </tr>\n",
       "    <tr>\n",
       "      <th>Ram</th>\n",
       "      <td>4100.0</td>\n",
       "      <td>3000.0</td>\n",
       "      <td>3500.0</td>\n",
       "      <td>NaN</td>\n",
       "    </tr>\n",
       "    <tr>\n",
       "      <th>Sham</th>\n",
       "      <td>2100.0</td>\n",
       "      <td>3800.0</td>\n",
       "      <td>3500.0</td>\n",
       "      <td>2200.0</td>\n",
       "    </tr>\n",
       "    <tr>\n",
       "      <th>Sita</th>\n",
       "      <td>2000.0</td>\n",
       "      <td>NaN</td>\n",
       "      <td>2100.0</td>\n",
       "      <td>3100.0</td>\n",
       "    </tr>\n",
       "  </tbody>\n",
       "</table>\n",
       "</div>"
      ],
      "text/plain": [
       "Month   April  February  January   March\n",
       "Name                                    \n",
       "Gita   3000.0    2100.0   4900.0  2300.0\n",
       "Ram    4100.0    3000.0   3500.0     NaN\n",
       "Sham   2100.0    3800.0   3500.0  2200.0\n",
       "Sita   2000.0       NaN   2100.0  3100.0"
      ]
     },
     "execution_count": 52,
     "metadata": {},
     "output_type": "execute_result"
    }
   ],
   "source": [
    "pd.pivot(sales,index=\"Name\",columns=\"Month\",values=\"Sales\")"
   ]
  },
  {
   "cell_type": "code",
   "execution_count": 53,
   "id": "01c10a0a-3074-4de2-910c-5f42d8a9ae49",
   "metadata": {},
   "outputs": [
    {
     "data": {
      "text/html": [
       "<div>\n",
       "<style scoped>\n",
       "    .dataframe tbody tr th:only-of-type {\n",
       "        vertical-align: middle;\n",
       "    }\n",
       "\n",
       "    .dataframe tbody tr th {\n",
       "        vertical-align: top;\n",
       "    }\n",
       "\n",
       "    .dataframe thead th {\n",
       "        text-align: right;\n",
       "    }\n",
       "</style>\n",
       "<table border=\"1\" class=\"dataframe\">\n",
       "  <thead>\n",
       "    <tr style=\"text-align: right;\">\n",
       "      <th>Month</th>\n",
       "      <th>April</th>\n",
       "      <th>February</th>\n",
       "      <th>January</th>\n",
       "      <th>March</th>\n",
       "    </tr>\n",
       "    <tr>\n",
       "      <th>Name</th>\n",
       "      <th></th>\n",
       "      <th></th>\n",
       "      <th></th>\n",
       "      <th></th>\n",
       "    </tr>\n",
       "  </thead>\n",
       "  <tbody>\n",
       "    <tr>\n",
       "      <th>Gita</th>\n",
       "      <td>3000.0</td>\n",
       "      <td>2100.0</td>\n",
       "      <td>4900.0</td>\n",
       "      <td>2300.0</td>\n",
       "    </tr>\n",
       "    <tr>\n",
       "      <th>Ram</th>\n",
       "      <td>4100.0</td>\n",
       "      <td>3000.0</td>\n",
       "      <td>3500.0</td>\n",
       "      <td>NaN</td>\n",
       "    </tr>\n",
       "    <tr>\n",
       "      <th>Sham</th>\n",
       "      <td>2100.0</td>\n",
       "      <td>3800.0</td>\n",
       "      <td>3500.0</td>\n",
       "      <td>2200.0</td>\n",
       "    </tr>\n",
       "    <tr>\n",
       "      <th>Sita</th>\n",
       "      <td>2000.0</td>\n",
       "      <td>NaN</td>\n",
       "      <td>2100.0</td>\n",
       "      <td>3100.0</td>\n",
       "    </tr>\n",
       "  </tbody>\n",
       "</table>\n",
       "</div>"
      ],
      "text/plain": [
       "Month   April  February  January   March\n",
       "Name                                    \n",
       "Gita   3000.0    2100.0   4900.0  2300.0\n",
       "Ram    4100.0    3000.0   3500.0     NaN\n",
       "Sham   2100.0    3800.0   3500.0  2200.0\n",
       "Sita   2000.0       NaN   2100.0  3100.0"
      ]
     },
     "execution_count": 53,
     "metadata": {},
     "output_type": "execute_result"
    }
   ],
   "source": [
    "pd.pivot_table(sales,index=\"Name\",columns=\"Month\",values=\"Sales\")"
   ]
  },
  {
   "cell_type": "code",
   "execution_count": 54,
   "id": "cc24971d-6c61-4621-a867-66169a8ca851",
   "metadata": {},
   "outputs": [],
   "source": [
    "new_sales=pd.concat([sales,sales],axis=0)"
   ]
  },
  {
   "cell_type": "code",
   "execution_count": 55,
   "id": "50a4a36c-1c13-4411-80ac-78fdc69aa3ae",
   "metadata": {},
   "outputs": [
    {
     "data": {
      "text/html": [
       "<div>\n",
       "<style scoped>\n",
       "    .dataframe tbody tr th:only-of-type {\n",
       "        vertical-align: middle;\n",
       "    }\n",
       "\n",
       "    .dataframe tbody tr th {\n",
       "        vertical-align: top;\n",
       "    }\n",
       "\n",
       "    .dataframe thead th {\n",
       "        text-align: right;\n",
       "    }\n",
       "</style>\n",
       "<table border=\"1\" class=\"dataframe\">\n",
       "  <thead>\n",
       "    <tr style=\"text-align: right;\">\n",
       "      <th></th>\n",
       "      <th>Name</th>\n",
       "      <th>Month</th>\n",
       "      <th>Sales</th>\n",
       "    </tr>\n",
       "  </thead>\n",
       "  <tbody>\n",
       "    <tr>\n",
       "      <th>0</th>\n",
       "      <td>Ram</td>\n",
       "      <td>January</td>\n",
       "      <td>3500</td>\n",
       "    </tr>\n",
       "    <tr>\n",
       "      <th>1</th>\n",
       "      <td>Sham</td>\n",
       "      <td>January</td>\n",
       "      <td>3500</td>\n",
       "    </tr>\n",
       "    <tr>\n",
       "      <th>2</th>\n",
       "      <td>Sita</td>\n",
       "      <td>January</td>\n",
       "      <td>2100</td>\n",
       "    </tr>\n",
       "    <tr>\n",
       "      <th>3</th>\n",
       "      <td>Gita</td>\n",
       "      <td>January</td>\n",
       "      <td>4900</td>\n",
       "    </tr>\n",
       "    <tr>\n",
       "      <th>4</th>\n",
       "      <td>Ram</td>\n",
       "      <td>February</td>\n",
       "      <td>3000</td>\n",
       "    </tr>\n",
       "    <tr>\n",
       "      <th>5</th>\n",
       "      <td>Sham</td>\n",
       "      <td>February</td>\n",
       "      <td>3800</td>\n",
       "    </tr>\n",
       "    <tr>\n",
       "      <th>6</th>\n",
       "      <td>Gita</td>\n",
       "      <td>February</td>\n",
       "      <td>2100</td>\n",
       "    </tr>\n",
       "    <tr>\n",
       "      <th>7</th>\n",
       "      <td>Sham</td>\n",
       "      <td>March</td>\n",
       "      <td>2200</td>\n",
       "    </tr>\n",
       "    <tr>\n",
       "      <th>8</th>\n",
       "      <td>Sita</td>\n",
       "      <td>March</td>\n",
       "      <td>3100</td>\n",
       "    </tr>\n",
       "    <tr>\n",
       "      <th>9</th>\n",
       "      <td>Gita</td>\n",
       "      <td>March</td>\n",
       "      <td>2300</td>\n",
       "    </tr>\n",
       "    <tr>\n",
       "      <th>10</th>\n",
       "      <td>Ram</td>\n",
       "      <td>April</td>\n",
       "      <td>4100</td>\n",
       "    </tr>\n",
       "    <tr>\n",
       "      <th>11</th>\n",
       "      <td>Gita</td>\n",
       "      <td>April</td>\n",
       "      <td>3000</td>\n",
       "    </tr>\n",
       "    <tr>\n",
       "      <th>12</th>\n",
       "      <td>Sham</td>\n",
       "      <td>April</td>\n",
       "      <td>2100</td>\n",
       "    </tr>\n",
       "    <tr>\n",
       "      <th>13</th>\n",
       "      <td>Sita</td>\n",
       "      <td>April</td>\n",
       "      <td>2000</td>\n",
       "    </tr>\n",
       "    <tr>\n",
       "      <th>0</th>\n",
       "      <td>Ram</td>\n",
       "      <td>January</td>\n",
       "      <td>3500</td>\n",
       "    </tr>\n",
       "    <tr>\n",
       "      <th>1</th>\n",
       "      <td>Sham</td>\n",
       "      <td>January</td>\n",
       "      <td>3500</td>\n",
       "    </tr>\n",
       "    <tr>\n",
       "      <th>2</th>\n",
       "      <td>Sita</td>\n",
       "      <td>January</td>\n",
       "      <td>2100</td>\n",
       "    </tr>\n",
       "    <tr>\n",
       "      <th>3</th>\n",
       "      <td>Gita</td>\n",
       "      <td>January</td>\n",
       "      <td>4900</td>\n",
       "    </tr>\n",
       "    <tr>\n",
       "      <th>4</th>\n",
       "      <td>Ram</td>\n",
       "      <td>February</td>\n",
       "      <td>3000</td>\n",
       "    </tr>\n",
       "    <tr>\n",
       "      <th>5</th>\n",
       "      <td>Sham</td>\n",
       "      <td>February</td>\n",
       "      <td>3800</td>\n",
       "    </tr>\n",
       "    <tr>\n",
       "      <th>6</th>\n",
       "      <td>Gita</td>\n",
       "      <td>February</td>\n",
       "      <td>2100</td>\n",
       "    </tr>\n",
       "    <tr>\n",
       "      <th>7</th>\n",
       "      <td>Sham</td>\n",
       "      <td>March</td>\n",
       "      <td>2200</td>\n",
       "    </tr>\n",
       "    <tr>\n",
       "      <th>8</th>\n",
       "      <td>Sita</td>\n",
       "      <td>March</td>\n",
       "      <td>3100</td>\n",
       "    </tr>\n",
       "    <tr>\n",
       "      <th>9</th>\n",
       "      <td>Gita</td>\n",
       "      <td>March</td>\n",
       "      <td>2300</td>\n",
       "    </tr>\n",
       "    <tr>\n",
       "      <th>10</th>\n",
       "      <td>Ram</td>\n",
       "      <td>April</td>\n",
       "      <td>4100</td>\n",
       "    </tr>\n",
       "    <tr>\n",
       "      <th>11</th>\n",
       "      <td>Gita</td>\n",
       "      <td>April</td>\n",
       "      <td>3000</td>\n",
       "    </tr>\n",
       "    <tr>\n",
       "      <th>12</th>\n",
       "      <td>Sham</td>\n",
       "      <td>April</td>\n",
       "      <td>2100</td>\n",
       "    </tr>\n",
       "    <tr>\n",
       "      <th>13</th>\n",
       "      <td>Sita</td>\n",
       "      <td>April</td>\n",
       "      <td>2000</td>\n",
       "    </tr>\n",
       "  </tbody>\n",
       "</table>\n",
       "</div>"
      ],
      "text/plain": [
       "    Name     Month  Sales\n",
       "0    Ram   January   3500\n",
       "1   Sham   January   3500\n",
       "2   Sita   January   2100\n",
       "3   Gita   January   4900\n",
       "4    Ram  February   3000\n",
       "5   Sham  February   3800\n",
       "6   Gita  February   2100\n",
       "7   Sham     March   2200\n",
       "8   Sita     March   3100\n",
       "9   Gita     March   2300\n",
       "10   Ram     April   4100\n",
       "11  Gita     April   3000\n",
       "12  Sham     April   2100\n",
       "13  Sita     April   2000\n",
       "0    Ram   January   3500\n",
       "1   Sham   January   3500\n",
       "2   Sita   January   2100\n",
       "3   Gita   January   4900\n",
       "4    Ram  February   3000\n",
       "5   Sham  February   3800\n",
       "6   Gita  February   2100\n",
       "7   Sham     March   2200\n",
       "8   Sita     March   3100\n",
       "9   Gita     March   2300\n",
       "10   Ram     April   4100\n",
       "11  Gita     April   3000\n",
       "12  Sham     April   2100\n",
       "13  Sita     April   2000"
      ]
     },
     "execution_count": 55,
     "metadata": {},
     "output_type": "execute_result"
    }
   ],
   "source": [
    "new_sales"
   ]
  },
  {
   "cell_type": "code",
   "execution_count": 56,
   "id": "5639ec7f-96ce-4038-b02e-7bd4bef37516",
   "metadata": {},
   "outputs": [
    {
     "data": {
      "text/html": [
       "<div>\n",
       "<style scoped>\n",
       "    .dataframe tbody tr th:only-of-type {\n",
       "        vertical-align: middle;\n",
       "    }\n",
       "\n",
       "    .dataframe tbody tr th {\n",
       "        vertical-align: top;\n",
       "    }\n",
       "\n",
       "    .dataframe thead th {\n",
       "        text-align: right;\n",
       "    }\n",
       "</style>\n",
       "<table border=\"1\" class=\"dataframe\">\n",
       "  <thead>\n",
       "    <tr style=\"text-align: right;\">\n",
       "      <th>Month</th>\n",
       "      <th>April</th>\n",
       "      <th>February</th>\n",
       "      <th>January</th>\n",
       "      <th>March</th>\n",
       "    </tr>\n",
       "    <tr>\n",
       "      <th>Name</th>\n",
       "      <th></th>\n",
       "      <th></th>\n",
       "      <th></th>\n",
       "      <th></th>\n",
       "    </tr>\n",
       "  </thead>\n",
       "  <tbody>\n",
       "    <tr>\n",
       "      <th>Gita</th>\n",
       "      <td>6000.0</td>\n",
       "      <td>4200.0</td>\n",
       "      <td>9800.0</td>\n",
       "      <td>4600.0</td>\n",
       "    </tr>\n",
       "    <tr>\n",
       "      <th>Ram</th>\n",
       "      <td>8200.0</td>\n",
       "      <td>6000.0</td>\n",
       "      <td>7000.0</td>\n",
       "      <td>NaN</td>\n",
       "    </tr>\n",
       "    <tr>\n",
       "      <th>Sham</th>\n",
       "      <td>4200.0</td>\n",
       "      <td>7600.0</td>\n",
       "      <td>7000.0</td>\n",
       "      <td>4400.0</td>\n",
       "    </tr>\n",
       "    <tr>\n",
       "      <th>Sita</th>\n",
       "      <td>4000.0</td>\n",
       "      <td>NaN</td>\n",
       "      <td>4200.0</td>\n",
       "      <td>6200.0</td>\n",
       "    </tr>\n",
       "  </tbody>\n",
       "</table>\n",
       "</div>"
      ],
      "text/plain": [
       "Month   April  February  January   March\n",
       "Name                                    \n",
       "Gita   6000.0    4200.0   9800.0  4600.0\n",
       "Ram    8200.0    6000.0   7000.0     NaN\n",
       "Sham   4200.0    7600.0   7000.0  4400.0\n",
       "Sita   4000.0       NaN   4200.0  6200.0"
      ]
     },
     "execution_count": 56,
     "metadata": {},
     "output_type": "execute_result"
    }
   ],
   "source": [
    "pd.pivot_table(new_sales,index=\"Name\",columns=\"Month\",values=\"Sales\",aggfunc=\"sum\")"
   ]
  },
  {
   "cell_type": "code",
   "execution_count": 57,
   "id": "1ee7d66f-37d0-4cc8-8eeb-63034026ee03",
   "metadata": {},
   "outputs": [],
   "source": [
    "pvt_tbl_sales=pd.pivot_table(new_sales,index=\"Name\",columns=\"Month\",values=\"Sales\",aggfunc=\"sum\")"
   ]
  },
  {
   "cell_type": "code",
   "execution_count": 58,
   "id": "d60d3bca-74cd-4896-a301-5c73e0ef4a94",
   "metadata": {},
   "outputs": [
    {
     "data": {
      "text/html": [
       "<div>\n",
       "<style scoped>\n",
       "    .dataframe tbody tr th:only-of-type {\n",
       "        vertical-align: middle;\n",
       "    }\n",
       "\n",
       "    .dataframe tbody tr th {\n",
       "        vertical-align: top;\n",
       "    }\n",
       "\n",
       "    .dataframe thead th {\n",
       "        text-align: right;\n",
       "    }\n",
       "</style>\n",
       "<table border=\"1\" class=\"dataframe\">\n",
       "  <thead>\n",
       "    <tr style=\"text-align: right;\">\n",
       "      <th>Month</th>\n",
       "      <th>April</th>\n",
       "      <th>February</th>\n",
       "      <th>January</th>\n",
       "      <th>March</th>\n",
       "    </tr>\n",
       "    <tr>\n",
       "      <th>Name</th>\n",
       "      <th></th>\n",
       "      <th></th>\n",
       "      <th></th>\n",
       "      <th></th>\n",
       "    </tr>\n",
       "  </thead>\n",
       "  <tbody>\n",
       "    <tr>\n",
       "      <th>Gita</th>\n",
       "      <td>6000.0</td>\n",
       "      <td>4200.0</td>\n",
       "      <td>9800.0</td>\n",
       "      <td>4600.0</td>\n",
       "    </tr>\n",
       "    <tr>\n",
       "      <th>Ram</th>\n",
       "      <td>8200.0</td>\n",
       "      <td>6000.0</td>\n",
       "      <td>7000.0</td>\n",
       "      <td>NaN</td>\n",
       "    </tr>\n",
       "    <tr>\n",
       "      <th>Sham</th>\n",
       "      <td>4200.0</td>\n",
       "      <td>7600.0</td>\n",
       "      <td>7000.0</td>\n",
       "      <td>4400.0</td>\n",
       "    </tr>\n",
       "    <tr>\n",
       "      <th>Sita</th>\n",
       "      <td>4000.0</td>\n",
       "      <td>NaN</td>\n",
       "      <td>4200.0</td>\n",
       "      <td>6200.0</td>\n",
       "    </tr>\n",
       "  </tbody>\n",
       "</table>\n",
       "</div>"
      ],
      "text/plain": [
       "Month   April  February  January   March\n",
       "Name                                    \n",
       "Gita   6000.0    4200.0   9800.0  4600.0\n",
       "Ram    8200.0    6000.0   7000.0     NaN\n",
       "Sham   4200.0    7600.0   7000.0  4400.0\n",
       "Sita   4000.0       NaN   4200.0  6200.0"
      ]
     },
     "execution_count": 58,
     "metadata": {},
     "output_type": "execute_result"
    }
   ],
   "source": [
    "pvt_tbl_sales"
   ]
  },
  {
   "cell_type": "code",
   "execution_count": 59,
   "id": "79e5d3fd-d3dc-453b-bd01-f2fdeed6ff14",
   "metadata": {},
   "outputs": [
    {
     "data": {
      "text/html": [
       "<div>\n",
       "<style scoped>\n",
       "    .dataframe tbody tr th:only-of-type {\n",
       "        vertical-align: middle;\n",
       "    }\n",
       "\n",
       "    .dataframe tbody tr th {\n",
       "        vertical-align: top;\n",
       "    }\n",
       "\n",
       "    .dataframe thead th {\n",
       "        text-align: right;\n",
       "    }\n",
       "</style>\n",
       "<table border=\"1\" class=\"dataframe\">\n",
       "  <thead>\n",
       "    <tr style=\"text-align: right;\">\n",
       "      <th>Month</th>\n",
       "      <th>Name</th>\n",
       "      <th>April</th>\n",
       "      <th>February</th>\n",
       "      <th>January</th>\n",
       "      <th>March</th>\n",
       "    </tr>\n",
       "  </thead>\n",
       "  <tbody>\n",
       "    <tr>\n",
       "      <th>0</th>\n",
       "      <td>Gita</td>\n",
       "      <td>6000.0</td>\n",
       "      <td>4200.0</td>\n",
       "      <td>9800.0</td>\n",
       "      <td>4600.0</td>\n",
       "    </tr>\n",
       "    <tr>\n",
       "      <th>1</th>\n",
       "      <td>Ram</td>\n",
       "      <td>8200.0</td>\n",
       "      <td>6000.0</td>\n",
       "      <td>7000.0</td>\n",
       "      <td>NaN</td>\n",
       "    </tr>\n",
       "    <tr>\n",
       "      <th>2</th>\n",
       "      <td>Sham</td>\n",
       "      <td>4200.0</td>\n",
       "      <td>7600.0</td>\n",
       "      <td>7000.0</td>\n",
       "      <td>4400.0</td>\n",
       "    </tr>\n",
       "    <tr>\n",
       "      <th>3</th>\n",
       "      <td>Sita</td>\n",
       "      <td>4000.0</td>\n",
       "      <td>NaN</td>\n",
       "      <td>4200.0</td>\n",
       "      <td>6200.0</td>\n",
       "    </tr>\n",
       "  </tbody>\n",
       "</table>\n",
       "</div>"
      ],
      "text/plain": [
       "Month  Name   April  February  January   March\n",
       "0      Gita  6000.0    4200.0   9800.0  4600.0\n",
       "1       Ram  8200.0    6000.0   7000.0     NaN\n",
       "2      Sham  4200.0    7600.0   7000.0  4400.0\n",
       "3      Sita  4000.0       NaN   4200.0  6200.0"
      ]
     },
     "execution_count": 59,
     "metadata": {},
     "output_type": "execute_result"
    }
   ],
   "source": [
    "pvt_tbl_sales.reset_index()"
   ]
  },
  {
   "cell_type": "code",
   "execution_count": 60,
   "id": "207baa4e-84f3-4faf-830f-75a34105020f",
   "metadata": {},
   "outputs": [
    {
     "data": {
      "text/html": [
       "<div>\n",
       "<style scoped>\n",
       "    .dataframe tbody tr th:only-of-type {\n",
       "        vertical-align: middle;\n",
       "    }\n",
       "\n",
       "    .dataframe tbody tr th {\n",
       "        vertical-align: top;\n",
       "    }\n",
       "\n",
       "    .dataframe thead th {\n",
       "        text-align: right;\n",
       "    }\n",
       "</style>\n",
       "<table border=\"1\" class=\"dataframe\">\n",
       "  <thead>\n",
       "    <tr style=\"text-align: right;\">\n",
       "      <th></th>\n",
       "      <th>Name</th>\n",
       "      <th>Month</th>\n",
       "      <th>Sales</th>\n",
       "    </tr>\n",
       "  </thead>\n",
       "  <tbody>\n",
       "    <tr>\n",
       "      <th>0</th>\n",
       "      <td>Ram</td>\n",
       "      <td>January</td>\n",
       "      <td>3500</td>\n",
       "    </tr>\n",
       "    <tr>\n",
       "      <th>1</th>\n",
       "      <td>Sham</td>\n",
       "      <td>January</td>\n",
       "      <td>3500</td>\n",
       "    </tr>\n",
       "    <tr>\n",
       "      <th>2</th>\n",
       "      <td>Sita</td>\n",
       "      <td>January</td>\n",
       "      <td>2100</td>\n",
       "    </tr>\n",
       "    <tr>\n",
       "      <th>3</th>\n",
       "      <td>Gita</td>\n",
       "      <td>January</td>\n",
       "      <td>4900</td>\n",
       "    </tr>\n",
       "    <tr>\n",
       "      <th>4</th>\n",
       "      <td>Ram</td>\n",
       "      <td>February</td>\n",
       "      <td>3000</td>\n",
       "    </tr>\n",
       "    <tr>\n",
       "      <th>5</th>\n",
       "      <td>Sham</td>\n",
       "      <td>February</td>\n",
       "      <td>3800</td>\n",
       "    </tr>\n",
       "    <tr>\n",
       "      <th>6</th>\n",
       "      <td>Gita</td>\n",
       "      <td>February</td>\n",
       "      <td>2100</td>\n",
       "    </tr>\n",
       "    <tr>\n",
       "      <th>7</th>\n",
       "      <td>Sham</td>\n",
       "      <td>March</td>\n",
       "      <td>2200</td>\n",
       "    </tr>\n",
       "    <tr>\n",
       "      <th>8</th>\n",
       "      <td>Sita</td>\n",
       "      <td>March</td>\n",
       "      <td>3100</td>\n",
       "    </tr>\n",
       "    <tr>\n",
       "      <th>9</th>\n",
       "      <td>Gita</td>\n",
       "      <td>March</td>\n",
       "      <td>2300</td>\n",
       "    </tr>\n",
       "    <tr>\n",
       "      <th>10</th>\n",
       "      <td>Ram</td>\n",
       "      <td>April</td>\n",
       "      <td>4100</td>\n",
       "    </tr>\n",
       "    <tr>\n",
       "      <th>11</th>\n",
       "      <td>Gita</td>\n",
       "      <td>April</td>\n",
       "      <td>3000</td>\n",
       "    </tr>\n",
       "    <tr>\n",
       "      <th>12</th>\n",
       "      <td>Sham</td>\n",
       "      <td>April</td>\n",
       "      <td>2100</td>\n",
       "    </tr>\n",
       "    <tr>\n",
       "      <th>13</th>\n",
       "      <td>Sita</td>\n",
       "      <td>April</td>\n",
       "      <td>2000</td>\n",
       "    </tr>\n",
       "  </tbody>\n",
       "</table>\n",
       "</div>"
      ],
      "text/plain": [
       "    Name     Month  Sales\n",
       "0    Ram   January   3500\n",
       "1   Sham   January   3500\n",
       "2   Sita   January   2100\n",
       "3   Gita   January   4900\n",
       "4    Ram  February   3000\n",
       "5   Sham  February   3800\n",
       "6   Gita  February   2100\n",
       "7   Sham     March   2200\n",
       "8   Sita     March   3100\n",
       "9   Gita     March   2300\n",
       "10   Ram     April   4100\n",
       "11  Gita     April   3000\n",
       "12  Sham     April   2100\n",
       "13  Sita     April   2000"
      ]
     },
     "execution_count": 60,
     "metadata": {},
     "output_type": "execute_result"
    }
   ],
   "source": [
    "sales"
   ]
  },
  {
   "cell_type": "code",
   "execution_count": 61,
   "id": "28b04174-87ff-4db8-925c-59db34bdc50f",
   "metadata": {},
   "outputs": [
    {
     "data": {
      "text/plain": [
       "<Axes: xlabel='Name'>"
      ]
     },
     "execution_count": 61,
     "metadata": {},
     "output_type": "execute_result"
    },
    {
     "data": {
      "image/png": "[encoded data removed]",
      "text/plain": [
       "<Figure size 640x480 with 1 Axes>"
      ]
     },
     "metadata": {},
     "output_type": "display_data"
    }
   ],
   "source": [
    "sales.groupby(\"Name\").sum().plot.bar()"
   ]
  },
  {
   "cell_type": "code",
   "execution_count": 62,
   "id": "a7097fe4-8c57-4284-ac4a-2ce7877de38e",
   "metadata": {},
   "outputs": [
    {
     "data": {
      "text/plain": [
       "array([<Axes: ylabel='Sales'>], dtype=object)"
      ]
     },
     "execution_count": 62,
     "metadata": {},
     "output_type": "execute_result"
    },
    {
     "data": {
      "image/png": "[encoded data removed]",
      "text/plain": [
       "<Figure size 640x480 with 1 Axes>"
      ]
     },
     "metadata": {},
     "output_type": "display_data"
    }
   ],
   "source": [
    "sales.groupby(\"Name\").mean(\"sales\").plot.pie(subplots=True)"
   ]
  },
  {
   "cell_type": "code",
   "execution_count": 63,
   "id": "698ee4c2-f2d2-4134-914d-56fc406edc9a",
   "metadata": {},
   "outputs": [],
   "source": [
    "mark1=pd.read_excel(\"mark1.xlsx\")\n",
    "mark2=pd.read_excel(\"mark2.xlsx\")"
   ]
  },
  {
   "cell_type": "code",
   "execution_count": 64,
   "id": "e4844446-81cd-4868-b594-ee28b65b12d6",
   "metadata": {},
   "outputs": [
    {
     "data": {
      "text/html": [
       "<div>\n",
       "<style scoped>\n",
       "    .dataframe tbody tr th:only-of-type {\n",
       "        vertical-align: middle;\n",
       "    }\n",
       "\n",
       "    .dataframe tbody tr th {\n",
       "        vertical-align: top;\n",
       "    }\n",
       "\n",
       "    .dataframe thead th {\n",
       "        text-align: right;\n",
       "    }\n",
       "</style>\n",
       "<table border=\"1\" class=\"dataframe\">\n",
       "  <thead>\n",
       "    <tr style=\"text-align: right;\">\n",
       "      <th></th>\n",
       "      <th>Name</th>\n",
       "      <th>Math</th>\n",
       "      <th>Science</th>\n",
       "    </tr>\n",
       "  </thead>\n",
       "  <tbody>\n",
       "    <tr>\n",
       "      <th>0</th>\n",
       "      <td>Ram</td>\n",
       "      <td>67</td>\n",
       "      <td>45</td>\n",
       "    </tr>\n",
       "    <tr>\n",
       "      <th>1</th>\n",
       "      <td>Sham</td>\n",
       "      <td>59</td>\n",
       "      <td>42</td>\n",
       "    </tr>\n",
       "    <tr>\n",
       "      <th>2</th>\n",
       "      <td>Sita</td>\n",
       "      <td>87</td>\n",
       "      <td>86</td>\n",
       "    </tr>\n",
       "    <tr>\n",
       "      <th>3</th>\n",
       "      <td>Gita</td>\n",
       "      <td>65</td>\n",
       "      <td>46</td>\n",
       "    </tr>\n",
       "    <tr>\n",
       "      <th>4</th>\n",
       "      <td>rinky</td>\n",
       "      <td>73</td>\n",
       "      <td>47</td>\n",
       "    </tr>\n",
       "    <tr>\n",
       "      <th>5</th>\n",
       "      <td>raju</td>\n",
       "      <td>42</td>\n",
       "      <td>45</td>\n",
       "    </tr>\n",
       "  </tbody>\n",
       "</table>\n",
       "</div>"
      ],
      "text/plain": [
       "    Name  Math  Science\n",
       "0    Ram    67       45\n",
       "1   Sham    59       42\n",
       "2   Sita    87       86\n",
       "3   Gita    65       46\n",
       "4  rinky    73       47\n",
       "5  raju     42       45"
      ]
     },
     "execution_count": 64,
     "metadata": {},
     "output_type": "execute_result"
    }
   ],
   "source": [
    "mark1"
   ]
  },
  {
   "cell_type": "code",
   "execution_count": 65,
   "id": "7a4ceb85-abaa-4aea-a1fa-f9714495b311",
   "metadata": {},
   "outputs": [
    {
     "data": {
      "text/html": [
       "<div>\n",
       "<style scoped>\n",
       "    .dataframe tbody tr th:only-of-type {\n",
       "        vertical-align: middle;\n",
       "    }\n",
       "\n",
       "    .dataframe tbody tr th {\n",
       "        vertical-align: top;\n",
       "    }\n",
       "\n",
       "    .dataframe thead th {\n",
       "        text-align: right;\n",
       "    }\n",
       "</style>\n",
       "<table border=\"1\" class=\"dataframe\">\n",
       "  <thead>\n",
       "    <tr style=\"text-align: right;\">\n",
       "      <th></th>\n",
       "      <th>Name</th>\n",
       "      <th>English</th>\n",
       "      <th>Sports</th>\n",
       "    </tr>\n",
       "  </thead>\n",
       "  <tbody>\n",
       "    <tr>\n",
       "      <th>0</th>\n",
       "      <td>Ram</td>\n",
       "      <td>87</td>\n",
       "      <td>46.0</td>\n",
       "    </tr>\n",
       "    <tr>\n",
       "      <th>1</th>\n",
       "      <td>Sham</td>\n",
       "      <td>56</td>\n",
       "      <td>75.0</td>\n",
       "    </tr>\n",
       "    <tr>\n",
       "      <th>2</th>\n",
       "      <td>Sita</td>\n",
       "      <td>64</td>\n",
       "      <td>67.0</td>\n",
       "    </tr>\n",
       "    <tr>\n",
       "      <th>3</th>\n",
       "      <td>Gita</td>\n",
       "      <td>98</td>\n",
       "      <td>75.0</td>\n",
       "    </tr>\n",
       "    <tr>\n",
       "      <th>4</th>\n",
       "      <td>rocky</td>\n",
       "      <td>65</td>\n",
       "      <td>NaN</td>\n",
       "    </tr>\n",
       "  </tbody>\n",
       "</table>\n",
       "</div>"
      ],
      "text/plain": [
       "    Name  English  Sports\n",
       "0    Ram       87    46.0\n",
       "1   Sham       56    75.0\n",
       "2   Sita       64    67.0\n",
       "3   Gita       98    75.0\n",
       "4  rocky       65     NaN"
      ]
     },
     "execution_count": 65,
     "metadata": {},
     "output_type": "execute_result"
    }
   ],
   "source": [
    "mark2"
   ]
  },
  {
   "cell_type": "code",
   "execution_count": 66,
   "id": "af441cf7-54d4-486b-b5d1-e1d8acf63857",
   "metadata": {},
   "outputs": [
    {
     "data": {
      "text/html": [
       "<div>\n",
       "<style scoped>\n",
       "    .dataframe tbody tr th:only-of-type {\n",
       "        vertical-align: middle;\n",
       "    }\n",
       "\n",
       "    .dataframe tbody tr th {\n",
       "        vertical-align: top;\n",
       "    }\n",
       "\n",
       "    .dataframe thead th {\n",
       "        text-align: right;\n",
       "    }\n",
       "</style>\n",
       "<table border=\"1\" class=\"dataframe\">\n",
       "  <thead>\n",
       "    <tr style=\"text-align: right;\">\n",
       "      <th></th>\n",
       "      <th>Name</th>\n",
       "      <th>Math</th>\n",
       "      <th>Science</th>\n",
       "      <th>English</th>\n",
       "      <th>Sports</th>\n",
       "    </tr>\n",
       "  </thead>\n",
       "  <tbody>\n",
       "    <tr>\n",
       "      <th>0</th>\n",
       "      <td>Ram</td>\n",
       "      <td>67</td>\n",
       "      <td>45</td>\n",
       "      <td>87</td>\n",
       "      <td>46.0</td>\n",
       "    </tr>\n",
       "    <tr>\n",
       "      <th>1</th>\n",
       "      <td>Sham</td>\n",
       "      <td>59</td>\n",
       "      <td>42</td>\n",
       "      <td>56</td>\n",
       "      <td>75.0</td>\n",
       "    </tr>\n",
       "    <tr>\n",
       "      <th>2</th>\n",
       "      <td>Sita</td>\n",
       "      <td>87</td>\n",
       "      <td>86</td>\n",
       "      <td>64</td>\n",
       "      <td>67.0</td>\n",
       "    </tr>\n",
       "    <tr>\n",
       "      <th>3</th>\n",
       "      <td>Gita</td>\n",
       "      <td>65</td>\n",
       "      <td>46</td>\n",
       "      <td>98</td>\n",
       "      <td>75.0</td>\n",
       "    </tr>\n",
       "  </tbody>\n",
       "</table>\n",
       "</div>"
      ],
      "text/plain": [
       "   Name  Math  Science  English  Sports\n",
       "0   Ram    67       45       87    46.0\n",
       "1  Sham    59       42       56    75.0\n",
       "2  Sita    87       86       64    67.0\n",
       "3  Gita    65       46       98    75.0"
      ]
     },
     "execution_count": 66,
     "metadata": {},
     "output_type": "execute_result"
    }
   ],
   "source": [
    "mark1.merge(mark2,on=\"Name\")"
   ]
  },
  {
   "cell_type": "code",
   "execution_count": 67,
   "id": "02e0a1a7-43de-4a28-83fe-2615efd6b2f3",
   "metadata": {},
   "outputs": [],
   "source": [
    "mark1=pd.read_excel(\"mark1.xlsx\")\n",
    "mark2=pd.read_excel(\"mark2.xlsx\")"
   ]
  },
  {
   "cell_type": "code",
   "execution_count": 68,
   "id": "b3d80056-af72-4a40-9e6d-a9070ff24a77",
   "metadata": {},
   "outputs": [
    {
     "data": {
      "text/html": [
       "<div>\n",
       "<style scoped>\n",
       "    .dataframe tbody tr th:only-of-type {\n",
       "        vertical-align: middle;\n",
       "    }\n",
       "\n",
       "    .dataframe tbody tr th {\n",
       "        vertical-align: top;\n",
       "    }\n",
       "\n",
       "    .dataframe thead th {\n",
       "        text-align: right;\n",
       "    }\n",
       "</style>\n",
       "<table border=\"1\" class=\"dataframe\">\n",
       "  <thead>\n",
       "    <tr style=\"text-align: right;\">\n",
       "      <th></th>\n",
       "      <th>Name</th>\n",
       "      <th>Math</th>\n",
       "      <th>Science</th>\n",
       "      <th>English</th>\n",
       "      <th>Sports</th>\n",
       "    </tr>\n",
       "  </thead>\n",
       "  <tbody>\n",
       "    <tr>\n",
       "      <th>0</th>\n",
       "      <td>Ram</td>\n",
       "      <td>67</td>\n",
       "      <td>45</td>\n",
       "      <td>87</td>\n",
       "      <td>46.0</td>\n",
       "    </tr>\n",
       "    <tr>\n",
       "      <th>1</th>\n",
       "      <td>Sham</td>\n",
       "      <td>59</td>\n",
       "      <td>42</td>\n",
       "      <td>56</td>\n",
       "      <td>75.0</td>\n",
       "    </tr>\n",
       "    <tr>\n",
       "      <th>2</th>\n",
       "      <td>Sita</td>\n",
       "      <td>87</td>\n",
       "      <td>86</td>\n",
       "      <td>64</td>\n",
       "      <td>67.0</td>\n",
       "    </tr>\n",
       "    <tr>\n",
       "      <th>3</th>\n",
       "      <td>Gita</td>\n",
       "      <td>65</td>\n",
       "      <td>46</td>\n",
       "      <td>98</td>\n",
       "      <td>75.0</td>\n",
       "    </tr>\n",
       "  </tbody>\n",
       "</table>\n",
       "</div>"
      ],
      "text/plain": [
       "   Name  Math  Science  English  Sports\n",
       "0   Ram    67       45       87    46.0\n",
       "1  Sham    59       42       56    75.0\n",
       "2  Sita    87       86       64    67.0\n",
       "3  Gita    65       46       98    75.0"
      ]
     },
     "execution_count": 68,
     "metadata": {},
     "output_type": "execute_result"
    }
   ],
   "source": [
    "mark1.merge(mark2,on=\"Name\")"
   ]
  },
  {
   "cell_type": "code",
   "execution_count": 69,
   "id": "d951460c-e8ec-4010-ba45-ab102dc83f34",
   "metadata": {},
   "outputs": [
    {
     "data": {
      "text/html": [
       "<div>\n",
       "<style scoped>\n",
       "    .dataframe tbody tr th:only-of-type {\n",
       "        vertical-align: middle;\n",
       "    }\n",
       "\n",
       "    .dataframe tbody tr th {\n",
       "        vertical-align: top;\n",
       "    }\n",
       "\n",
       "    .dataframe thead th {\n",
       "        text-align: right;\n",
       "    }\n",
       "</style>\n",
       "<table border=\"1\" class=\"dataframe\">\n",
       "  <thead>\n",
       "    <tr style=\"text-align: right;\">\n",
       "      <th></th>\n",
       "      <th>Name</th>\n",
       "      <th>Math</th>\n",
       "      <th>Science</th>\n",
       "      <th>English</th>\n",
       "      <th>Sports</th>\n",
       "    </tr>\n",
       "  </thead>\n",
       "  <tbody>\n",
       "    <tr>\n",
       "      <th>0</th>\n",
       "      <td>Ram</td>\n",
       "      <td>67</td>\n",
       "      <td>45</td>\n",
       "      <td>87.0</td>\n",
       "      <td>46.0</td>\n",
       "    </tr>\n",
       "    <tr>\n",
       "      <th>1</th>\n",
       "      <td>Sham</td>\n",
       "      <td>59</td>\n",
       "      <td>42</td>\n",
       "      <td>56.0</td>\n",
       "      <td>75.0</td>\n",
       "    </tr>\n",
       "    <tr>\n",
       "      <th>2</th>\n",
       "      <td>Sita</td>\n",
       "      <td>87</td>\n",
       "      <td>86</td>\n",
       "      <td>64.0</td>\n",
       "      <td>67.0</td>\n",
       "    </tr>\n",
       "    <tr>\n",
       "      <th>3</th>\n",
       "      <td>Gita</td>\n",
       "      <td>65</td>\n",
       "      <td>46</td>\n",
       "      <td>98.0</td>\n",
       "      <td>75.0</td>\n",
       "    </tr>\n",
       "    <tr>\n",
       "      <th>4</th>\n",
       "      <td>rinky</td>\n",
       "      <td>73</td>\n",
       "      <td>47</td>\n",
       "      <td>NaN</td>\n",
       "      <td>NaN</td>\n",
       "    </tr>\n",
       "    <tr>\n",
       "      <th>5</th>\n",
       "      <td>raju</td>\n",
       "      <td>42</td>\n",
       "      <td>45</td>\n",
       "      <td>NaN</td>\n",
       "      <td>NaN</td>\n",
       "    </tr>\n",
       "  </tbody>\n",
       "</table>\n",
       "</div>"
      ],
      "text/plain": [
       "    Name  Math  Science  English  Sports\n",
       "0    Ram    67       45     87.0    46.0\n",
       "1   Sham    59       42     56.0    75.0\n",
       "2   Sita    87       86     64.0    67.0\n",
       "3   Gita    65       46     98.0    75.0\n",
       "4  rinky    73       47      NaN     NaN\n",
       "5  raju     42       45      NaN     NaN"
      ]
     },
     "execution_count": 69,
     "metadata": {},
     "output_type": "execute_result"
    }
   ],
   "source": [
    "mark1.merge(mark2,on=\"Name\",how=\"left\")"
   ]
  },
  {
   "cell_type": "code",
   "execution_count": 70,
   "id": "fbc08b1f-0f9c-44e1-ba69-634b7833ac93",
   "metadata": {},
   "outputs": [
    {
     "data": {
      "text/html": [
       "<div>\n",
       "<style scoped>\n",
       "    .dataframe tbody tr th:only-of-type {\n",
       "        vertical-align: middle;\n",
       "    }\n",
       "\n",
       "    .dataframe tbody tr th {\n",
       "        vertical-align: top;\n",
       "    }\n",
       "\n",
       "    .dataframe thead th {\n",
       "        text-align: right;\n",
       "    }\n",
       "</style>\n",
       "<table border=\"1\" class=\"dataframe\">\n",
       "  <thead>\n",
       "    <tr style=\"text-align: right;\">\n",
       "      <th></th>\n",
       "      <th>Name</th>\n",
       "      <th>Math</th>\n",
       "      <th>Science</th>\n",
       "      <th>English</th>\n",
       "      <th>Sports</th>\n",
       "    </tr>\n",
       "  </thead>\n",
       "  <tbody>\n",
       "    <tr>\n",
       "      <th>0</th>\n",
       "      <td>Ram</td>\n",
       "      <td>67</td>\n",
       "      <td>45</td>\n",
       "      <td>87</td>\n",
       "      <td>46.0</td>\n",
       "    </tr>\n",
       "    <tr>\n",
       "      <th>1</th>\n",
       "      <td>Sham</td>\n",
       "      <td>59</td>\n",
       "      <td>42</td>\n",
       "      <td>56</td>\n",
       "      <td>75.0</td>\n",
       "    </tr>\n",
       "    <tr>\n",
       "      <th>2</th>\n",
       "      <td>Sita</td>\n",
       "      <td>87</td>\n",
       "      <td>86</td>\n",
       "      <td>64</td>\n",
       "      <td>67.0</td>\n",
       "    </tr>\n",
       "    <tr>\n",
       "      <th>3</th>\n",
       "      <td>Gita</td>\n",
       "      <td>65</td>\n",
       "      <td>46</td>\n",
       "      <td>98</td>\n",
       "      <td>75.0</td>\n",
       "    </tr>\n",
       "  </tbody>\n",
       "</table>\n",
       "</div>"
      ],
      "text/plain": [
       "   Name  Math  Science  English  Sports\n",
       "0   Ram    67       45       87    46.0\n",
       "1  Sham    59       42       56    75.0\n",
       "2  Sita    87       86       64    67.0\n",
       "3  Gita    65       46       98    75.0"
      ]
     },
     "execution_count": 70,
     "metadata": {},
     "output_type": "execute_result"
    }
   ],
   "source": [
    "mark1.merge(mark2,on=\"Name\",how=\"inner\")"
   ]
  },
  {
   "cell_type": "code",
   "execution_count": 71,
   "id": "f3fbd847-2397-4f99-a1e9-dda92d432d8f",
   "metadata": {},
   "outputs": [
    {
     "data": {
      "text/html": [
       "<div>\n",
       "<style scoped>\n",
       "    .dataframe tbody tr th:only-of-type {\n",
       "        vertical-align: middle;\n",
       "    }\n",
       "\n",
       "    .dataframe tbody tr th {\n",
       "        vertical-align: top;\n",
       "    }\n",
       "\n",
       "    .dataframe thead th {\n",
       "        text-align: right;\n",
       "    }\n",
       "</style>\n",
       "<table border=\"1\" class=\"dataframe\">\n",
       "  <thead>\n",
       "    <tr style=\"text-align: right;\">\n",
       "      <th></th>\n",
       "      <th>Name</th>\n",
       "      <th>Math</th>\n",
       "      <th>Science</th>\n",
       "      <th>English</th>\n",
       "      <th>Sports</th>\n",
       "    </tr>\n",
       "  </thead>\n",
       "  <tbody>\n",
       "    <tr>\n",
       "      <th>0</th>\n",
       "      <td>Ram</td>\n",
       "      <td>67.0</td>\n",
       "      <td>45.0</td>\n",
       "      <td>87.0</td>\n",
       "      <td>46.0</td>\n",
       "    </tr>\n",
       "    <tr>\n",
       "      <th>1</th>\n",
       "      <td>Sham</td>\n",
       "      <td>59.0</td>\n",
       "      <td>42.0</td>\n",
       "      <td>56.0</td>\n",
       "      <td>75.0</td>\n",
       "    </tr>\n",
       "    <tr>\n",
       "      <th>2</th>\n",
       "      <td>Sita</td>\n",
       "      <td>87.0</td>\n",
       "      <td>86.0</td>\n",
       "      <td>64.0</td>\n",
       "      <td>67.0</td>\n",
       "    </tr>\n",
       "    <tr>\n",
       "      <th>3</th>\n",
       "      <td>Gita</td>\n",
       "      <td>65.0</td>\n",
       "      <td>46.0</td>\n",
       "      <td>98.0</td>\n",
       "      <td>75.0</td>\n",
       "    </tr>\n",
       "    <tr>\n",
       "      <th>4</th>\n",
       "      <td>rinky</td>\n",
       "      <td>73.0</td>\n",
       "      <td>47.0</td>\n",
       "      <td>NaN</td>\n",
       "      <td>NaN</td>\n",
       "    </tr>\n",
       "    <tr>\n",
       "      <th>5</th>\n",
       "      <td>raju</td>\n",
       "      <td>42.0</td>\n",
       "      <td>45.0</td>\n",
       "      <td>NaN</td>\n",
       "      <td>NaN</td>\n",
       "    </tr>\n",
       "    <tr>\n",
       "      <th>6</th>\n",
       "      <td>rocky</td>\n",
       "      <td>NaN</td>\n",
       "      <td>NaN</td>\n",
       "      <td>65.0</td>\n",
       "      <td>NaN</td>\n",
       "    </tr>\n",
       "  </tbody>\n",
       "</table>\n",
       "</div>"
      ],
      "text/plain": [
       "    Name  Math  Science  English  Sports\n",
       "0    Ram  67.0     45.0     87.0    46.0\n",
       "1   Sham  59.0     42.0     56.0    75.0\n",
       "2   Sita  87.0     86.0     64.0    67.0\n",
       "3   Gita  65.0     46.0     98.0    75.0\n",
       "4  rinky  73.0     47.0      NaN     NaN\n",
       "5  raju   42.0     45.0      NaN     NaN\n",
       "6  rocky   NaN      NaN     65.0     NaN"
      ]
     },
     "execution_count": 71,
     "metadata": {},
     "output_type": "execute_result"
    }
   ],
   "source": [
    "mark1.merge(mark2,on=\"Name\",how=\"outer\")"
   ]
  },
  {
   "cell_type": "code",
   "execution_count": 72,
   "id": "9f20360e-54ee-4e05-add4-c9cae27f0e63",
   "metadata": {},
   "outputs": [
    {
     "data": {
      "text/html": [
       "<div>\n",
       "<style scoped>\n",
       "    .dataframe tbody tr th:only-of-type {\n",
       "        vertical-align: middle;\n",
       "    }\n",
       "\n",
       "    .dataframe tbody tr th {\n",
       "        vertical-align: top;\n",
       "    }\n",
       "\n",
       "    .dataframe thead th {\n",
       "        text-align: right;\n",
       "    }\n",
       "</style>\n",
       "<table border=\"1\" class=\"dataframe\">\n",
       "  <thead>\n",
       "    <tr style=\"text-align: right;\">\n",
       "      <th></th>\n",
       "      <th>Name</th>\n",
       "      <th>Math</th>\n",
       "      <th>Science</th>\n",
       "      <th>English</th>\n",
       "      <th>Sports</th>\n",
       "    </tr>\n",
       "  </thead>\n",
       "  <tbody>\n",
       "    <tr>\n",
       "      <th>0</th>\n",
       "      <td>Ram</td>\n",
       "      <td>67.0</td>\n",
       "      <td>45.0</td>\n",
       "      <td>87</td>\n",
       "      <td>46.0</td>\n",
       "    </tr>\n",
       "    <tr>\n",
       "      <th>1</th>\n",
       "      <td>Sham</td>\n",
       "      <td>59.0</td>\n",
       "      <td>42.0</td>\n",
       "      <td>56</td>\n",
       "      <td>75.0</td>\n",
       "    </tr>\n",
       "    <tr>\n",
       "      <th>2</th>\n",
       "      <td>Sita</td>\n",
       "      <td>87.0</td>\n",
       "      <td>86.0</td>\n",
       "      <td>64</td>\n",
       "      <td>67.0</td>\n",
       "    </tr>\n",
       "    <tr>\n",
       "      <th>3</th>\n",
       "      <td>Gita</td>\n",
       "      <td>65.0</td>\n",
       "      <td>46.0</td>\n",
       "      <td>98</td>\n",
       "      <td>75.0</td>\n",
       "    </tr>\n",
       "    <tr>\n",
       "      <th>4</th>\n",
       "      <td>rocky</td>\n",
       "      <td>NaN</td>\n",
       "      <td>NaN</td>\n",
       "      <td>65</td>\n",
       "      <td>NaN</td>\n",
       "    </tr>\n",
       "  </tbody>\n",
       "</table>\n",
       "</div>"
      ],
      "text/plain": [
       "    Name  Math  Science  English  Sports\n",
       "0    Ram  67.0     45.0       87    46.0\n",
       "1   Sham  59.0     42.0       56    75.0\n",
       "2   Sita  87.0     86.0       64    67.0\n",
       "3   Gita  65.0     46.0       98    75.0\n",
       "4  rocky   NaN      NaN       65     NaN"
      ]
     },
     "execution_count": 72,
     "metadata": {},
     "output_type": "execute_result"
    }
   ],
   "source": [
    "mark1.merge(mark2,on=\"Name\",how=\"right\")"
   ]
  },
  {
   "cell_type": "code",
   "execution_count": 73,
   "id": "02bebbed-9386-476d-8ba6-618e984d3849",
   "metadata": {},
   "outputs": [
    {
     "data": {
      "text/html": [
       "<div>\n",
       "<style scoped>\n",
       "    .dataframe tbody tr th:only-of-type {\n",
       "        vertical-align: middle;\n",
       "    }\n",
       "\n",
       "    .dataframe tbody tr th {\n",
       "        vertical-align: top;\n",
       "    }\n",
       "\n",
       "    .dataframe thead th {\n",
       "        text-align: right;\n",
       "    }\n",
       "</style>\n",
       "<table border=\"1\" class=\"dataframe\">\n",
       "  <thead>\n",
       "    <tr style=\"text-align: right;\">\n",
       "      <th></th>\n",
       "      <th>Name_left</th>\n",
       "      <th>Math</th>\n",
       "      <th>Science</th>\n",
       "      <th>Name_right</th>\n",
       "      <th>English</th>\n",
       "      <th>Sports</th>\n",
       "    </tr>\n",
       "  </thead>\n",
       "  <tbody>\n",
       "    <tr>\n",
       "      <th>0</th>\n",
       "      <td>Ram</td>\n",
       "      <td>67</td>\n",
       "      <td>45</td>\n",
       "      <td>Ram</td>\n",
       "      <td>87</td>\n",
       "      <td>46.0</td>\n",
       "    </tr>\n",
       "    <tr>\n",
       "      <th>1</th>\n",
       "      <td>Sham</td>\n",
       "      <td>59</td>\n",
       "      <td>42</td>\n",
       "      <td>Sham</td>\n",
       "      <td>56</td>\n",
       "      <td>75.0</td>\n",
       "    </tr>\n",
       "    <tr>\n",
       "      <th>2</th>\n",
       "      <td>Sita</td>\n",
       "      <td>87</td>\n",
       "      <td>86</td>\n",
       "      <td>Sita</td>\n",
       "      <td>64</td>\n",
       "      <td>67.0</td>\n",
       "    </tr>\n",
       "    <tr>\n",
       "      <th>3</th>\n",
       "      <td>Gita</td>\n",
       "      <td>65</td>\n",
       "      <td>46</td>\n",
       "      <td>Gita</td>\n",
       "      <td>98</td>\n",
       "      <td>75.0</td>\n",
       "    </tr>\n",
       "    <tr>\n",
       "      <th>4</th>\n",
       "      <td>rinky</td>\n",
       "      <td>73</td>\n",
       "      <td>47</td>\n",
       "      <td>rocky</td>\n",
       "      <td>65</td>\n",
       "      <td>NaN</td>\n",
       "    </tr>\n",
       "  </tbody>\n",
       "</table>\n",
       "</div>"
      ],
      "text/plain": [
       "  Name_left  Math  Science Name_right  English  Sports\n",
       "0       Ram    67       45        Ram       87    46.0\n",
       "1      Sham    59       42       Sham       56    75.0\n",
       "2      Sita    87       86       Sita       64    67.0\n",
       "3      Gita    65       46       Gita       98    75.0\n",
       "4     rinky    73       47      rocky       65     NaN"
      ]
     },
     "execution_count": 73,
     "metadata": {},
     "output_type": "execute_result"
    }
   ],
   "source": [
    "mark1.join(mark2,lsuffix=\"_left\",rsuffix=\"_right\",how=\"inner\")"
   ]
  },
  {
   "cell_type": "code",
   "execution_count": 74,
   "id": "45e8a4c4-acc6-49e8-bb23-338625def592",
   "metadata": {},
   "outputs": [
    {
     "data": {
      "text/html": [
       "<div>\n",
       "<style scoped>\n",
       "    .dataframe tbody tr th:only-of-type {\n",
       "        vertical-align: middle;\n",
       "    }\n",
       "\n",
       "    .dataframe tbody tr th {\n",
       "        vertical-align: top;\n",
       "    }\n",
       "\n",
       "    .dataframe thead th {\n",
       "        text-align: right;\n",
       "    }\n",
       "</style>\n",
       "<table border=\"1\" class=\"dataframe\">\n",
       "  <thead>\n",
       "    <tr style=\"text-align: right;\">\n",
       "      <th></th>\n",
       "      <th>Name_left</th>\n",
       "      <th>Math</th>\n",
       "      <th>Science</th>\n",
       "      <th>Name_right</th>\n",
       "      <th>English</th>\n",
       "      <th>Sports</th>\n",
       "    </tr>\n",
       "  </thead>\n",
       "  <tbody>\n",
       "    <tr>\n",
       "      <th>0</th>\n",
       "      <td>Ram</td>\n",
       "      <td>67</td>\n",
       "      <td>45</td>\n",
       "      <td>Ram</td>\n",
       "      <td>87.0</td>\n",
       "      <td>46.0</td>\n",
       "    </tr>\n",
       "    <tr>\n",
       "      <th>1</th>\n",
       "      <td>Sham</td>\n",
       "      <td>59</td>\n",
       "      <td>42</td>\n",
       "      <td>Sham</td>\n",
       "      <td>56.0</td>\n",
       "      <td>75.0</td>\n",
       "    </tr>\n",
       "    <tr>\n",
       "      <th>2</th>\n",
       "      <td>Sita</td>\n",
       "      <td>87</td>\n",
       "      <td>86</td>\n",
       "      <td>Sita</td>\n",
       "      <td>64.0</td>\n",
       "      <td>67.0</td>\n",
       "    </tr>\n",
       "    <tr>\n",
       "      <th>3</th>\n",
       "      <td>Gita</td>\n",
       "      <td>65</td>\n",
       "      <td>46</td>\n",
       "      <td>Gita</td>\n",
       "      <td>98.0</td>\n",
       "      <td>75.0</td>\n",
       "    </tr>\n",
       "    <tr>\n",
       "      <th>4</th>\n",
       "      <td>rinky</td>\n",
       "      <td>73</td>\n",
       "      <td>47</td>\n",
       "      <td>rocky</td>\n",
       "      <td>65.0</td>\n",
       "      <td>NaN</td>\n",
       "    </tr>\n",
       "    <tr>\n",
       "      <th>5</th>\n",
       "      <td>raju</td>\n",
       "      <td>42</td>\n",
       "      <td>45</td>\n",
       "      <td>NaN</td>\n",
       "      <td>NaN</td>\n",
       "      <td>NaN</td>\n",
       "    </tr>\n",
       "  </tbody>\n",
       "</table>\n",
       "</div>"
      ],
      "text/plain": [
       "  Name_left  Math  Science Name_right  English  Sports\n",
       "0       Ram    67       45        Ram     87.0    46.0\n",
       "1      Sham    59       42       Sham     56.0    75.0\n",
       "2      Sita    87       86       Sita     64.0    67.0\n",
       "3      Gita    65       46       Gita     98.0    75.0\n",
       "4     rinky    73       47      rocky     65.0     NaN\n",
       "5     raju     42       45        NaN      NaN     NaN"
      ]
     },
     "execution_count": 74,
     "metadata": {},
     "output_type": "execute_result"
    }
   ],
   "source": [
    "mark1.join(mark2,lsuffix=\"_left\",rsuffix=\"_right\",how=\"outer\")"
   ]
  },
  {
   "cell_type": "code",
   "execution_count": 75,
   "id": "a571374e-9193-4340-ad0a-41ca3b190d9d",
   "metadata": {},
   "outputs": [
    {
     "data": {
      "text/html": [
       "<div>\n",
       "<style scoped>\n",
       "    .dataframe tbody tr th:only-of-type {\n",
       "        vertical-align: middle;\n",
       "    }\n",
       "\n",
       "    .dataframe tbody tr th {\n",
       "        vertical-align: top;\n",
       "    }\n",
       "\n",
       "    .dataframe thead th {\n",
       "        text-align: right;\n",
       "    }\n",
       "</style>\n",
       "<table border=\"1\" class=\"dataframe\">\n",
       "  <thead>\n",
       "    <tr style=\"text-align: right;\">\n",
       "      <th></th>\n",
       "      <th>Name_left</th>\n",
       "      <th>Math</th>\n",
       "      <th>Science</th>\n",
       "      <th>Name_right</th>\n",
       "      <th>English</th>\n",
       "      <th>Sports</th>\n",
       "    </tr>\n",
       "  </thead>\n",
       "  <tbody>\n",
       "    <tr>\n",
       "      <th>0</th>\n",
       "      <td>Ram</td>\n",
       "      <td>67</td>\n",
       "      <td>45</td>\n",
       "      <td>Ram</td>\n",
       "      <td>87</td>\n",
       "      <td>46.0</td>\n",
       "    </tr>\n",
       "    <tr>\n",
       "      <th>1</th>\n",
       "      <td>Sham</td>\n",
       "      <td>59</td>\n",
       "      <td>42</td>\n",
       "      <td>Sham</td>\n",
       "      <td>56</td>\n",
       "      <td>75.0</td>\n",
       "    </tr>\n",
       "    <tr>\n",
       "      <th>2</th>\n",
       "      <td>Sita</td>\n",
       "      <td>87</td>\n",
       "      <td>86</td>\n",
       "      <td>Sita</td>\n",
       "      <td>64</td>\n",
       "      <td>67.0</td>\n",
       "    </tr>\n",
       "    <tr>\n",
       "      <th>3</th>\n",
       "      <td>Gita</td>\n",
       "      <td>65</td>\n",
       "      <td>46</td>\n",
       "      <td>Gita</td>\n",
       "      <td>98</td>\n",
       "      <td>75.0</td>\n",
       "    </tr>\n",
       "    <tr>\n",
       "      <th>4</th>\n",
       "      <td>rinky</td>\n",
       "      <td>73</td>\n",
       "      <td>47</td>\n",
       "      <td>rocky</td>\n",
       "      <td>65</td>\n",
       "      <td>NaN</td>\n",
       "    </tr>\n",
       "  </tbody>\n",
       "</table>\n",
       "</div>"
      ],
      "text/plain": [
       "  Name_left  Math  Science Name_right  English  Sports\n",
       "0       Ram    67       45        Ram       87    46.0\n",
       "1      Sham    59       42       Sham       56    75.0\n",
       "2      Sita    87       86       Sita       64    67.0\n",
       "3      Gita    65       46       Gita       98    75.0\n",
       "4     rinky    73       47      rocky       65     NaN"
      ]
     },
     "execution_count": 75,
     "metadata": {},
     "output_type": "execute_result"
    }
   ],
   "source": [
    "mark1.join(mark2,lsuffix=\"_left\",rsuffix=\"_right\",how=\"inner\")"
   ]
  },
  {
   "cell_type": "code",
   "execution_count": null,
   "id": "ddb671f4-d191-47a9-81a5-af1b95aa39d7",
   "metadata": {},
   "outputs": [],
   "source": []
  }
 ],
 "metadata": {
  "kernelspec": {
   "display_name": "Python 3 (ipykernel)",
   "language": "python",
   "name": "python3"
  },
  "language_info": {
   "codemirror_mode": {
    "name": "ipython",
    "version": 3
   },
   "file_extension": ".py",
   "mimetype": "text/x-python",
   "name": "python",
   "nbconvert_exporter": "python",
   "pygments_lexer": "ipython3",
   "version": "3.12.0"
  }
 },
 "nbformat": 4,
 "nbformat_minor": 5
}
